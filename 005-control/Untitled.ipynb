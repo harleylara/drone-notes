{
 "cells": [
  {
   "cell_type": "markdown",
   "id": "56abac39-fb60-4032-aa0d-dc07dc2f2eef",
   "metadata": {},
   "source": [
    "# Basic on Control Teory"
   ]
  },
  {
   "cell_type": "code",
   "execution_count": 27,
   "id": "22f52daa-cb9f-45ad-a865-88864bf85086",
   "metadata": {},
   "outputs": [
    {
     "data": {
      "application/vnd.jupyter.widget-view+json": {
       "model_id": "ada71da477774d4e9233abba22877456",
       "version_major": 2,
       "version_minor": 0
      },
      "text/plain": [
       "Canvas(height=600, width=600)"
      ]
     },
     "metadata": {},
     "output_type": "display_data"
    }
   ],
   "source": [
    "from ipycanvas import Canvas\n",
    "\n",
    "class Simulator:\n",
    "    \n",
    "    BG_COLOR = \"#f2f2f2\"\n",
    "    \n",
    "    # Ground definitions\n",
    "    GROUND_COLOR = \"#bfbfbf\"\n",
    "    GROUND_HEIGHT = 150\n",
    "    \n",
    "    POLE_COLOR = \"#ffcc99\"\n",
    "    POLE_WIDTH = 50\n",
    "    POLE_HEIGHT = 350\n",
    "    \n",
    "    JOIN_COLOR = \"#cc0000\"\n",
    "    JOIN_RADIUS = 5\n",
    "    \n",
    "    \n",
    "    def __init__(self):\n",
    "        self.cx = Canvas(width=600, height=600)\n",
    "        self.cx.fill_style = self.BG_COLOR\n",
    "        self.cx.fill_rect(0, 0, self.cx.width, self.cx.height)\n",
    "        \n",
    "        self.__ground__(self.cx, self.GROUND_HEIGHT)\n",
    "        self.__pole__(self.cx, self.POLE_WIDTH, self.POLE_HEIGHT)\n",
    "        self.__arm__(self.cx, self.ARM_WIDTH, self.ARM_HEIGHT)\n",
    "        self.__join__(self.cx, self.JOIN_RADIUS)\n",
    "        \n",
    "    def __ground__(self, canvas, height):\n",
    "        x = 0\n",
    "        y = canvas.height-height\n",
    "        self.cx.fill_style = self.GROUND_COLOR\n",
    "        canvas.fill_rect(x, y, canvas.width, height)\n",
    "        \n",
    "    def __pole__(self, canvas, width, height):\n",
    "        x = canvas.width/2 - width/2\n",
    "        y = canvas.height - self.GROUND_HEIGHT - height\n",
    "        self.cx.fill_style = self.POLE_COLOR\n",
    "        canvas.fill_rect(x, y, width, height)\n",
    "        \n",
    "    def __arm__(self, canvas, width, height):\n",
    "        x = canvas.width/2\n",
    "        y = canvas.height - self.GROUND_HEIGHT - height\n",
    "        canvas.fill_rect(x, y, width, height)\n",
    "    \n",
    "    def __join__(self, canvas, radius):\n",
    "        canvas.fill_style = self.JOIN_COLOR\n",
    "        canvas.fill_circle(250, 50, radius)\n",
    "        \n",
    "sim = Simulator()\n",
    "sim.cx"
   ]
  }
 ],
 "metadata": {
  "kernelspec": {
   "display_name": "Python 3 (ipykernel)",
   "language": "python",
   "name": "python3"
  },
  "language_info": {
   "codemirror_mode": {
    "name": "ipython",
    "version": 3
   },
   "file_extension": ".py",
   "mimetype": "text/x-python",
   "name": "python",
   "nbconvert_exporter": "python",
   "pygments_lexer": "ipython3",
   "version": "3.10.2"
  }
 },
 "nbformat": 4,
 "nbformat_minor": 5
}
