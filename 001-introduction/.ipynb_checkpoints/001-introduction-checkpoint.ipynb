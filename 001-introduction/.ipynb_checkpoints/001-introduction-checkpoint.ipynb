{
 "cells": [
  {
   "cell_type": "code",
   "execution_count": 2,
   "id": "a1006fac-c6e2-4c05-9214-0dd1611546e8",
   "metadata": {
    "tags": []
   },
   "outputs": [
    {
     "data": {
      "text/latex": [
       "\\input{commands.tex}\n",
       "\n",
       "% Bold symbol definition\n",
       "$\n",
       "\\newcommand{\\bm}[1]{{\\boldsymbol #1}}\n",
       "$\n",
       "\n",
       "% Vectors\n",
       "$\n",
       "\\def\\vzero{{\\bm{0}}}\n",
       "\\def\\vone{{\\bm{1}}}\n",
       "\\def\\vmu{{\\bm{\\mu}}}\n",
       "\\def\\vtheta{{\\bm{\\theta}}}\n",
       "\\def\\va{{\\bm{a}}}\n",
       "\\def\\vb{{\\bm{b}}}\n",
       "\\def\\vc{{\\bm{c}}}\n",
       "\\def\\vd{{\\bm{d}}}\n",
       "\\def\\ve{{\\bm{e}}}\n",
       "\\def\\vf{{\\bm{f}}}\n",
       "\\def\\vg{{\\bm{g}}}\n",
       "\\def\\vh{{\\bm{h}}}\n",
       "\\def\\vi{{\\bm{i}}}\n",
       "\\def\\vj{{\\bm{j}}}\n",
       "\\def\\vk{{\\bm{k}}}\n",
       "\\def\\vl{{\\bm{l}}}\n",
       "\\def\\vm{{\\bm{m}}}\n",
       "\\def\\vn{{\\bm{n}}}\n",
       "\\def\\vo{{\\bm{o}}}\n",
       "\\def\\vp{{\\bm{p}}}\n",
       "\\def\\vq{{\\bm{q}}}\n",
       "\\def\\vr{{\\bm{r}}}\n",
       "\\def\\vs{{\\bm{s}}}\n",
       "\\def\\vt{{\\bm{t}}}\n",
       "\\def\\vu{{\\bm{u}}}\n",
       "\\def\\vv{{\\bm{v}}}\n",
       "\\def\\vw{{\\bm{w}}}\n",
       "\\def\\vx{{\\bm{x}}}\n",
       "\\def\\vy{{\\bm{y}}}\n",
       "\\def\\vz{{\\bm{z}}}\n",
       "$\n",
       "\n",
       "% Elements of vectors\n",
       "$\n",
       "\\def\\evalpha{{\\alpha}}\n",
       "\\def\\evbeta{{\\beta}}\n",
       "\\def\\evepsilon{{\\epsilon}}\n",
       "\\def\\evlambda{{\\lambda}}\n",
       "\\def\\evomega{{\\omega}}\n",
       "\\def\\evmu{{\\mu}}\n",
       "\\def\\evpsi{{\\psi}}\n",
       "\\def\\evsigma{{\\sigma}}\n",
       "\\def\\evtheta{{\\theta}}\n",
       "\\def\\eva{{a}}\n",
       "\\def\\evb{{b}}\n",
       "\\def\\evc{{c}}\n",
       "\\def\\evd{{d}}\n",
       "\\def\\eve{{e}}\n",
       "\\def\\evf{{f}}\n",
       "\\def\\evg{{g}}\n",
       "\\def\\evh{{h}}\n",
       "\\def\\evi{{i}}\n",
       "\\def\\evj{{j}}\n",
       "\\def\\evk{{k}}\n",
       "\\def\\evl{{l}}\n",
       "\\def\\evm{{m}}\n",
       "\\def\\evn{{n}}\n",
       "\\def\\evo{{o}}\n",
       "\\def\\evp{{p}}\n",
       "\\def\\evq{{q}}\n",
       "\\def\\evr{{r}}\n",
       "\\def\\evs{{s}}\n",
       "\\def\\evt{{t}}\n",
       "\\def\\evu{{u}}\n",
       "\\def\\evv{{v}}\n",
       "\\def\\evw{{w}}\n",
       "\\def\\evx{{x}}\n",
       "\\def\\evy{{y}}\n",
       "\\def\\evz{{z}}\n",
       "$\n",
       "\n",
       "% Matrix\n",
       "$\n",
       "% \\newcommand{\\m}[1]{{\\bm{#1}}}\n",
       "\\def\\mA{{\\bm{A}}}\n",
       "\\def\\mB{{\\bm{B}}}\n",
       "\\def\\mC{{\\bm{C}}}\n",
       "\\def\\mD{{\\bm{D}}}\n",
       "\\def\\mE{{\\bm{E}}}\n",
       "\\def\\mF{{\\bm{F}}}\n",
       "\\def\\mG{{\\bm{G}}}\n",
       "\\def\\mH{{\\bm{H}}}\n",
       "\\def\\mI{{\\bm{I}}}\n",
       "\\def\\mJ{{\\bm{J}}}\n",
       "\\def\\mK{{\\bm{K}}}\n",
       "\\def\\mL{{\\bm{L}}}\n",
       "\\def\\mM{{\\bm{M}}}\n",
       "\\def\\mN{{\\bm{N}}}\n",
       "\\def\\mO{{\\bm{O}}}\n",
       "\\def\\mP{{\\bm{P}}}\n",
       "\\def\\mQ{{\\bm{Q}}}\n",
       "\\def\\mR{{\\bm{R}}}\n",
       "\\def\\mS{{\\bm{S}}}\n",
       "\\def\\mT{{\\bm{T}}}\n",
       "\\def\\mU{{\\bm{U}}}\n",
       "\\def\\mV{{\\bm{V}}}\n",
       "\\def\\mW{{\\bm{W}}}\n",
       "\\def\\mX{{\\bm{X}}}\n",
       "\\def\\mY{{\\bm{Y}}}\n",
       "\\def\\mZ{{\\bm{Z}}}\n",
       "\\def\\mBeta{{\\bm{\\beta}}}\n",
       "\\def\\mPhi{{\\bm{\\Phi}}}\n",
       "\\def\\mLambda{{\\bm{\\Lambda}}}\n",
       "\\def\\mSigma{{\\bm{\\Sigma}}}\n",
       "$\n",
       "\n",
       "% Graph\n",
       "$\n",
       "\\def\\gA{{\\mathcal{A}}}\n",
       "\\def\\gB{{\\mathcal{B}}}\n",
       "\\def\\gC{{\\mathcal{C}}}\n",
       "\\def\\gD{{\\mathcal{D}}}\n",
       "\\def\\gE{{\\mathcal{E}}}\n",
       "\\def\\gF{{\\mathcal{F}}}\n",
       "\\def\\gG{{\\mathcal{G}}}\n",
       "\\def\\gH{{\\mathcal{H}}}\n",
       "\\def\\gI{{\\mathcal{I}}}\n",
       "\\def\\gJ{{\\mathcal{J}}}\n",
       "\\def\\gK{{\\mathcal{K}}}\n",
       "\\def\\gL{{\\mathcal{L}}}\n",
       "\\def\\gM{{\\mathcal{M}}}\n",
       "\\def\\gN{{\\mathcal{N}}}\n",
       "\\def\\gO{{\\mathcal{O}}}\n",
       "\\def\\gP{{\\mathcal{P}}}\n",
       "\\def\\gQ{{\\mathcal{Q}}}\n",
       "\\def\\gR{{\\mathcal{R}}}\n",
       "\\def\\gS{{\\mathcal{S}}}\n",
       "\\def\\gT{{\\mathcal{T}}}\n",
       "\\def\\gU{{\\mathcal{U}}}\n",
       "\\def\\gV{{\\mathcal{V}}}\n",
       "\\def\\gW{{\\mathcal{W}}}\n",
       "\\def\\gX{{\\mathcal{X}}}\n",
       "\\def\\gY{{\\mathcal{Y}}}\n",
       "\\def\\gZ{{\\mathcal{Z}}}\n",
       "$\n",
       "\n",
       "% Sets\n",
       "$\n",
       "\\def\\sA{{\\mathbb{A}}}\n",
       "\\def\\sB{{\\mathbb{B}}}\n",
       "\\def\\sC{{\\mathbb{C}}}\n",
       "\\def\\sD{{\\mathbb{D}}}\n",
       "% Don't use a set called E, because this would be the same as our symbol\n",
       "% for expectation.\n",
       "\\def\\sF{{\\mathbb{F}}}\n",
       "\\def\\sG{{\\mathbb{G}}}\n",
       "\\def\\sH{{\\mathbb{H}}}\n",
       "\\def\\sI{{\\mathbb{I}}}\n",
       "\\def\\sJ{{\\mathbb{J}}}\n",
       "\\def\\sK{{\\mathbb{K}}}\n",
       "\\def\\sL{{\\mathbb{L}}}\n",
       "\\def\\sM{{\\mathbb{M}}}\n",
       "\\def\\sN{{\\mathbb{N}}}\n",
       "\\def\\sO{{\\mathbb{O}}}\n",
       "\\def\\sP{{\\mathbb{P}}}\n",
       "\\def\\sQ{{\\mathbb{Q}}}\n",
       "\\def\\sR{{\\mathbb{R}}}\n",
       "\\def\\sS{{\\mathbb{S}}}\n",
       "\\def\\sT{{\\mathbb{T}}}\n",
       "\\def\\sU{{\\mathbb{U}}}\n",
       "\\def\\sV{{\\mathbb{V}}}\n",
       "\\def\\sW{{\\mathbb{W}}}\n",
       "\\def\\sX{{\\mathbb{X}}}\n",
       "\\def\\sY{{\\mathbb{Y}}}\n",
       "\\def\\sZ{{\\mathbb{Z}}}\n",
       "$\n",
       "\n",
       "% Reference Frames\n",
       "$\n",
       "\\def\\rfA{{\\{\\mA\\}}}\n",
       "\\def\\rfB{{\\{\\mB\\}}}\n",
       "\\def\\rfC{{\\{\\mC\\}}}\n",
       "\\def\\rfD{{\\{\\mD\\}}}\n",
       "\\def\\rfE{{\\{\\mE\\}}}\n",
       "\\def\\rfF{{\\{\\mF\\}}}\n",
       "\\def\\rfG{{\\{\\mG\\}}}\n",
       "\\def\\rfH{{\\{\\mH\\}}}\n",
       "\\def\\rfI{{\\{\\mI\\}}}\n",
       "\\def\\rfJ{{\\{\\mJ\\}}}\n",
       "\\def\\rfK{{\\{\\mK\\}}}\n",
       "\\def\\rfL{{\\{\\mL\\}}}\n",
       "\\def\\rfM{{\\{\\mM\\}}}\n",
       "\\def\\rfN{{\\{\\mN\\}}}\n",
       "\\def\\rfO{{\\{\\mO\\}}}\n",
       "\\def\\rfP{{\\{\\mP\\}}}\n",
       "\\def\\rfQ{{\\{\\mQ\\}}}\n",
       "\\def\\rfR{{\\{\\mR\\}}}\n",
       "\\def\\rfS{{\\{\\mS\\}}}\n",
       "\\def\\rfT{{\\{\\mT\\}}}\n",
       "\\def\\rfU{{\\{\\mU\\}}}\n",
       "\\def\\rfV{{\\{\\mV\\}}}\n",
       "\\def\\rfW{{\\{\\mW\\}}}\n",
       "\\def\\rfX{{\\{\\mX\\}}}\n",
       "\\def\\rfY{{\\{\\mY\\}}}\n",
       "\\def\\rfZ{{\\{\\mZ\\}}}\n",
       "$\n",
       "\n",
       "% Transpose\n",
       "$\n",
       "\\def\\transpose{{\\mathsf{T}}}\n",
       "$\n",
       "\n",
       "% Aumented vector\n",
       "$\n",
       "\\def\\ava{{\\bar{\\va}}}\n",
       "\\def\\avb{{\\bar{\\vb}}}\n",
       "\\def\\avc{{\\bar{\\vc}}}\n",
       "\\def\\avd{{\\bar{\\vd}}}\n",
       "\\def\\ave{{\\bar{\\ve}}}\n",
       "\\def\\avf{{\\bar{\\vf}}}\n",
       "\\def\\avg{{\\bar{\\vg}}}\n",
       "\\def\\avh{{\\bar{\\vh}}}\n",
       "\\def\\avi{{\\bar{\\vi}}}\n",
       "\\def\\avj{{\\bar{\\vj}}}\n",
       "\\def\\avk{{\\bar{\\vk}}}\n",
       "\\def\\avl{{\\bar{\\vl}}}\n",
       "\\def\\avm{{\\bar{\\vm}}}\n",
       "\\def\\avn{{\\bar{\\vn}}}\n",
       "\\def\\avo{{\\bar{\\vo}}}\n",
       "\\def\\avp{{\\bar{\\vp}}}\n",
       "\\def\\avq{{\\bar{\\vq}}}\n",
       "\\def\\avr{{\\bar{\\vr}}}\n",
       "\\def\\avs{{\\bar{\\vs}}}\n",
       "\\def\\avt{{\\bar{\\vt}}}\n",
       "\\def\\avu{{\\bar{\\vu}}}\n",
       "\\def\\avv{{\\bar{\\vv}}}\n",
       "\\def\\avw{{\\bar{\\vw}}}\n",
       "\\def\\avx{{\\bar{\\vx}}}\n",
       "\\def\\avy{{\\bar{\\vy}}}\n",
       "\\def\\avz{{\\bar{\\vz}}}\n",
       "$\n",
       "\n",
       "% Homogeneous coordibates\n",
       "$\n",
       "\\def\\hca{{\\tilde{a}}}\n",
       "\\def\\hcb{{\\tilde{b}}}\n",
       "\\def\\hcc{{\\tilde{c}}}\n",
       "\\def\\hcd{{\\tilde{d}}}\n",
       "\\def\\hce{{\\tilde{e}}}\n",
       "\\def\\hcf{{\\tilde{f}}}\n",
       "\\def\\hcg{{\\tilde{g}}}\n",
       "\\def\\hch{{\\tilde{h}}}\n",
       "\\def\\hci{{\\tilde{i}}}\n",
       "\\def\\hcj{{\\tilde{j}}}\n",
       "\\def\\hck{{\\tilde{k}}}\n",
       "\\def\\hcl{{\\tilde{l}}}\n",
       "\\def\\hcm{{\\tilde{m}}}\n",
       "\\def\\hcn{{\\tilde{n}}}\n",
       "\\def\\hco{{\\tilde{o}}}\n",
       "\\def\\hcp{{\\tilde{p}}}\n",
       "\\def\\hcq{{\\tilde{q}}}\n",
       "\\def\\hcr{{\\tilde{r}}}\n",
       "\\def\\hcs{{\\tilde{s}}}\n",
       "\\def\\hct{{\\tilde{t}}}\n",
       "\\def\\hcu{{\\tilde{u}}}\n",
       "\\def\\hcv{{\\tilde{v}}}\n",
       "\\def\\hcw{{\\tilde{w}}}\n",
       "\\def\\hcx{{\\tilde{x}}}\n",
       "\\def\\hcy{{\\tilde{y}}}\n",
       "\\def\\hcz{{\\tilde{z}}}\n",
       "$\n",
       "\n",
       "% Homogeneous vectors: used to represent lines\n",
       "$\n",
       "\\def\\hva{{\\tilde{\\va}}}\n",
       "\\def\\hvb{{\\tilde{\\vb}}}\n",
       "\\def\\hvc{{\\tilde{\\vc}}}\n",
       "\\def\\hvd{{\\tilde{\\vd}}}\n",
       "\\def\\hve{{\\tilde{\\ve}}}\n",
       "\\def\\hvf{{\\tilde{\\vf}}}\n",
       "\\def\\hvg{{\\tilde{\\vg}}}\n",
       "\\def\\hvh{{\\tilde{\\vh}}}\n",
       "\\def\\hvi{{\\tilde{\\vi}}}\n",
       "\\def\\hvj{{\\tilde{\\vj}}}\n",
       "\\def\\hvk{{\\tilde{\\vk}}}\n",
       "\\def\\hvl{{\\tilde{\\vl}}}\n",
       "\\def\\hvm{{\\tilde{\\vm}}}\n",
       "\\def\\hvn{{\\tilde{\\vn}}}\n",
       "\\def\\hvo{{\\tilde{\\vo}}}\n",
       "\\def\\hvp{{\\tilde{\\vp}}}\n",
       "\\def\\hvq{{\\tilde{\\vq}}}\n",
       "\\def\\hvr{{\\tilde{\\vr}}}\n",
       "\\def\\hvs{{\\tilde{\\vs}}}\n",
       "\\def\\hvt{{\\tilde{\\vt}}}\n",
       "\\def\\hvu{{\\tilde{\\vu}}}\n",
       "\\def\\hvv{{\\tilde{\\vv}}}\n",
       "\\def\\hvw{{\\tilde{\\vw}}}\n",
       "\\def\\hvx{{\\tilde{\\vx}}}\n",
       "\\def\\hvy{{\\tilde{\\vy}}}\n",
       "\\def\\hvz{{\\tilde{\\vz}}}\n",
       "$\n",
       "\n",
       "% Normal vector\n",
       "$\n",
       "\\def\\nva{{\\hat{\\va}}}\n",
       "\\def\\nvb{{\\hat{\\vb}}}\n",
       "\\def\\nvc{{\\hat{\\vc}}}\n",
       "\\def\\nvd{{\\hat{\\vd}}}\n",
       "\\def\\nve{{\\hat{\\ve}}}\n",
       "\\def\\nvf{{\\hat{\\vf}}}\n",
       "\\def\\nvg{{\\hat{\\vg}}}\n",
       "\\def\\nvh{{\\hat{\\vh}}}\n",
       "\\def\\nvi{{\\hat{\\vi}}}\n",
       "\\def\\nvj{{\\hat{\\vj}}}\n",
       "\\def\\nvk{{\\hat{\\vk}}}\n",
       "\\def\\nvl{{\\hat{\\vl}}}\n",
       "\\def\\nvm{{\\hat{\\vm}}}\n",
       "\\def\\nvn{{\\hat{\\vn}}}\n",
       "\\def\\nvo{{\\hat{\\vo}}}\n",
       "\\def\\nvp{{\\hat{\\vp}}}\n",
       "\\def\\nvq{{\\hat{\\vq}}}\n",
       "\\def\\nvr{{\\hat{\\vr}}}\n",
       "\\def\\nvs{{\\hat{\\vs}}}\n",
       "\\def\\nvt{{\\hat{\\vt}}}\n",
       "\\def\\nvu{{\\hat{\\vu}}}\n",
       "\\def\\nvv{{\\hat{\\vv}}}\n",
       "\\def\\nvw{{\\hat{\\vw}}}\n",
       "\\def\\nvx{{\\hat{\\vx}}}\n",
       "\\def\\nvy{{\\hat{\\vy}}}\n",
       "\\def\\nvz{{\\hat{\\vz}}}\n",
       "$\n",
       "\n",
       "% Normal scalar\n",
       "$\n",
       "\\def\\nsa{{\\hat{a}}}\n",
       "\\def\\nsb{{\\hat{b}}}\n",
       "\\def\\nsc{{\\hat{c}}}\n",
       "\\def\\nsd{{\\hat{d}}}\n",
       "\\def\\nse{{\\hat{e}}}\n",
       "\\def\\nsf{{\\hat{f}}}\n",
       "\\def\\nsg{{\\hat{g}}}\n",
       "\\def\\nsh{{\\hat{h}}}\n",
       "\\def\\nsi{{\\hat{i}}}\n",
       "\\def\\nsj{{\\hat{j}}}\n",
       "\\def\\nsk{{\\hat{k}}}\n",
       "\\def\\nsl{{\\hat{l}}}\n",
       "\\def\\nsm{{\\hat{m}}}\n",
       "\\def\\nsn{{\\hat{n}}}\n",
       "\\def\\nso{{\\hat{o}}}\n",
       "\\def\\nsp{{\\hat{p}}}\n",
       "\\def\\nsq{{\\hat{q}}}\n",
       "\\def\\nsr{{\\hat{r}}}\n",
       "\\def\\nss{{\\hat{s}}}\n",
       "\\def\\nst{{\\hat{t}}}\n",
       "\\def\\nsu{{\\hat{u}}}\n",
       "\\def\\nsv{{\\hat{v}}}\n",
       "\\def\\nsw{{\\hat{w}}}\n",
       "\\def\\nsx{{\\hat{x}}}\n",
       "\\def\\nsy{{\\hat{y}}}\n",
       "\\def\\nsz{{\\hat{z}}}\n",
       "$\n",
       "\n",
       "% Roll, Pitch and Yaw\n",
       "$\n",
       "\\def\\roll{{\\phi}}\n",
       "\\def\\pitch{{\\theta}}\n",
       "\\def\\yaw{{\\psi}}\n",
       "$"
      ],
      "text/plain": [
       "<IPython.core.display.Latex object>"
      ]
     },
     "execution_count": 2,
     "metadata": {},
     "output_type": "execute_result"
    }
   ],
   "source": [
    "from IPython.display import display, HTML, Javascript, IFrame, Latex\n",
    "\n",
    "Latex(filename=\"../notation/notation.tex\")"
   ]
  },
  {
   "cell_type": "markdown",
   "id": "db936432-3187-4beb-920d-b3171bc87ef3",
   "metadata": {
    "tags": []
   },
   "source": [
    "# Introduction"
   ]
  },
  {
   "cell_type": "markdown",
   "id": "6959b0e5-8021-409c-a94e-d623871aa209",
   "metadata": {},
   "source": [
    "## Unmanned aerial vehicles (UAVs)\n",
    "\n",
    "> In 1935 the British produced a number of radio-controlled aircraft to be used as targets for training purposes. It's thought the term 'drone' started to be used at this time, inspired by the name of one of these models\n",
    "\n",
    "```python\n",
    "Unmanned aerial vehicle (UAV) = Remote Piloted Vehicle (RPV) = Aerial Robot = Drone = Multirotor/Multicopter\n",
    "```\n"
   ]
  },
  {
   "cell_type": "markdown",
   "id": "f91b36c5-6aad-4e7c-8b5d-2827e4cf3470",
   "metadata": {},
   "source": [
    "## The history of the multirotor in a nutshell"
   ]
  },
  {
   "cell_type": "markdown",
   "id": "6e2f73b7-3408-4a77-8e08-6306339c58ef",
   "metadata": {
    "tags": []
   },
   "source": [
    "### Fixed-wind Airplanes (First motorized flight 1903)\n",
    "\n",
    "The **Wright Flyer** was the first powered, controlled, sustained airplane flight in history.\n",
    "\n",
    "<center>\n",
    "<img src=\"./assets/first-flight.svg\">\n",
    "</center>\n"
   ]
  },
  {
   "cell_type": "markdown",
   "id": "c56b416d-2c71-4719-8054-2150fa94cf18",
   "metadata": {},
   "source": [
    "### Multirotors (First successful flight 1924)\n",
    "\n",
    "The **de Bothezat helicopter** built for the United States Army Air Service by **George de Bothezat** in the early **1920s**, was the **first successful helicopter**.\n",
    "\n",
    "<center>\n",
    "<img src=\"./assets/first-multirotor.svg\">\n",
    "</center>\n",
    "\n",
    "[A Not-So-Short History of Unmanned Aerial Vehicles (UAV)](https://consortiq.com/uas-resources/short-history-unmanned-aerial-vehicles-uavs)"
   ]
  },
  {
   "cell_type": "markdown",
   "id": "ae169eb9-7a2e-4347-878f-19096403567c",
   "metadata": {},
   "source": [
    "## State of the art"
   ]
  },
  {
   "cell_type": "markdown",
   "id": "2668478a-64f9-4b01-a88b-835fb6ad85a4",
   "metadata": {},
   "source": [
    "### Learning High-Speed Flight in the Wild\n",
    "\n",
    "> _\"The work demonstrates that end-to-end policies trained in simulation enable high-speed autonomous flight through challenging environments, outperforming traditional obstacle avoidance pipelines.\"_\n",
    "\n",
    "<center>\n",
    "<img src=\"./assets/flight-wild.svg\">\n",
    "</center>\n",
    "\n",
    "[Project website](https://rpg.ifi.uzh.ch/AgileAutonomy.html)"
   ]
  },
  {
   "cell_type": "code",
   "execution_count": 9,
   "id": "a8f6ea76-3689-4058-827a-490ce8acb419",
   "metadata": {
    "jupyter": {
     "source_hidden": true
    },
    "tags": []
   },
   "outputs": [
    {
     "data": {
      "text/html": [
       "\n",
       "<center>\n",
       "<iframe width=\"560\" height=\"315\" src=\"https://www.youtube.com/embed/m89bNn6RFoQ?start=69\" title=\"YouTube video player\" frameborder=\"0\" allow=\"accelerometer; autoplay; clipboard-write; encrypted-media; gyroscope; picture-in-picture\" allowfullscreen></iframe>\n",
       "</center>\n"
      ],
      "text/plain": [
       "<IPython.core.display.HTML object>"
      ]
     },
     "metadata": {},
     "output_type": "display_data"
    }
   ],
   "source": [
    "flight_wild = \"\"\"\n",
    "<center>\n",
    "<iframe width=\"560\" height=\"315\" src=\"https://www.youtube.com/embed/m89bNn6RFoQ?start=69\" title=\"YouTube video player\" frameborder=\"0\" allow=\"accelerometer; autoplay; clipboard-write; encrypted-media; gyroscope; picture-in-picture\" allowfullscreen></iframe>\n",
    "</center>\n",
    "\"\"\"\n",
    "\n",
    "display(HTML(flight_wild))"
   ]
  },
  {
   "cell_type": "markdown",
   "id": "869b483f-b2ce-44d7-8cda-0bc82c548521",
   "metadata": {
    "tags": []
   },
   "source": [
    "### Perception-Aware Perching on Powerlines with Multirotors\n",
    "\n",
    "> _\"This paper presents a novel perching trajectory generation framework that computes perception-aware, collision-free, and dynamically-feasible maneuvers to guide the robot to the desired final state\"_.\n",
    "\n",
    "<center>\n",
    "<img src=\"./assets/power-lines.svg\">\n",
    "</center>\n",
    "\n",
    "[Project Website](https://rpg.ifi.uzh.ch/aggressive_flight.html)"
   ]
  },
  {
   "cell_type": "code",
   "execution_count": 10,
   "id": "92997366-70d5-464d-bf80-72ae75cfc18d",
   "metadata": {
    "jupyter": {
     "source_hidden": true
    },
    "tags": []
   },
   "outputs": [
    {
     "data": {
      "text/html": [
       "\n",
       "<center>\n",
       "<iframe width=\"560\" height=\"315\" src=\"https://www.youtube.com/embed/ZxCv7cVWgLY?start=87\" title=\"YouTube video player\" frameborder=\"0\" allow=\"accelerometer; autoplay; clipboard-write; encrypted-media; gyroscope; picture-in-picture\" allowfullscreen></iframe>\n",
       "</center>\n"
      ],
      "text/plain": [
       "<IPython.core.display.HTML object>"
      ]
     },
     "metadata": {},
     "output_type": "display_data"
    }
   ],
   "source": [
    "power_lines = \"\"\"\n",
    "<center>\n",
    "<iframe width=\"560\" height=\"315\" src=\"https://www.youtube.com/embed/ZxCv7cVWgLY?start=87\" title=\"YouTube video player\" frameborder=\"0\" allow=\"accelerometer; autoplay; clipboard-write; encrypted-media; gyroscope; picture-in-picture\" allowfullscreen></iframe>\n",
    "</center>\n",
    "\"\"\"\n",
    "\n",
    "display(HTML(power_lines))"
   ]
  },
  {
   "cell_type": "markdown",
   "id": "c9d38132-82b0-4dba-bdc8-7158f6abad57",
   "metadata": {},
   "source": [
    "### Large-scale Autonomous Flight with Real-time Semantic SLAM under Dense Forest Canopy\n",
    "\n",
    "> They _\"propose an integrated system that can perform large-scale autonomous flights and real-time semantic mapping in challenging under-canopy environments\"_.\n",
    "\n",
    "<center>\n",
    "<img src=\"./assets/forest.svg\">\n",
    "</center>"
   ]
  },
  {
   "cell_type": "code",
   "execution_count": 11,
   "id": "ab903d92-3cc9-44af-98bc-51af222581b8",
   "metadata": {
    "jupyter": {
     "source_hidden": true
    },
    "tags": []
   },
   "outputs": [
    {
     "data": {
      "text/html": [
       "\n",
       "<center>\n",
       "<iframe width=\"560\" height=\"315\" src=\"https://www.youtube.com/embed/Ad3ANMX8gd4?start=116\" title=\"YouTube video player\" frameborder=\"0\" allow=\"accelerometer; autoplay; clipboard-write; encrypted-media; gyroscope; picture-in-picture\" allowfullscreen></iframe>\n",
       "</center>\n"
      ],
      "text/plain": [
       "<IPython.core.display.HTML object>"
      ]
     },
     "metadata": {},
     "output_type": "display_data"
    }
   ],
   "source": [
    "forest_canopy = \"\"\"\n",
    "<center>\n",
    "<iframe width=\"560\" height=\"315\" src=\"https://www.youtube.com/embed/Ad3ANMX8gd4?start=116\" title=\"YouTube video player\" frameborder=\"0\" allow=\"accelerometer; autoplay; clipboard-write; encrypted-media; gyroscope; picture-in-picture\" allowfullscreen></iframe>\n",
    "</center>\n",
    "\"\"\"\n",
    "\n",
    "display(HTML(forest_canopy))"
   ]
  },
  {
   "cell_type": "markdown",
   "id": "f28d4ecf-b6c0-4f59-8144-e8b3f98f75be",
   "metadata": {},
   "source": [
    "### Classification of UAVs\n",
    "\n",
    "- Military\n",
    "- Comemrcial\n",
    "- Civil"
   ]
  },
  {
   "cell_type": "markdown",
   "id": "1f5b2d83-f242-4678-8479-89e737346adc",
   "metadata": {},
   "source": [
    "### Types of UAVs\n",
    "\n",
    "<center>\n",
    "<img src=\"./assets/types.svg\">\n",
    "</center>"
   ]
  },
  {
   "cell_type": "markdown",
   "id": "03e54c7d-5f29-4faf-8cd9-4ad49c68443e",
   "metadata": {},
   "source": [
    "### Frames Rotor crafts\n",
    "\n",
    "The frame geometry of a rotorcraft can have many shapes depending on the application, number of rotors or space, to name a few:\n",
    "\n",
    "<center>\n",
    "<img src=\"./assets/airframes.png\" >\n",
    "</center>\n",
    "\n",
    "More airframes (PX4 support): [link](https://docs.px4.io/master/en/airframes/airframe_reference.html)"
   ]
  },
  {
   "cell_type": "markdown",
   "id": "05845c03-19a3-4dc3-90d2-4cd32624fc29",
   "metadata": {},
   "source": [
    "### Applications"
   ]
  },
  {
   "cell_type": "markdown",
   "id": "c70625a8-d65e-4bc1-a1e4-7be7568a02e5",
   "metadata": {},
   "source": [
    "<center>\n",
    "<img src=\"./assets/multimedia.svg\">\n",
    "</center>"
   ]
  },
  {
   "cell_type": "markdown",
   "id": "de647d91-f443-46d9-b898-763358f65bfc",
   "metadata": {},
   "source": [
    "<center>\n",
    "<img src=\"./assets/industrial.svg\">\n",
    "</center>"
   ]
  },
  {
   "cell_type": "markdown",
   "id": "232f05e1-a71f-43e6-b788-d20c356a30a7",
   "metadata": {},
   "source": [
    "<center>\n",
    "<img src=\"./assets/agriculture.svg\">\n",
    "</center>"
   ]
  },
  {
   "cell_type": "markdown",
   "id": "3ae1f8d3-e213-4688-9540-3a73ce691e45",
   "metadata": {},
   "source": [
    "<center>\n",
    "<img src=\"./assets/mapping.svg\">\n",
    "</center>"
   ]
  },
  {
   "cell_type": "markdown",
   "id": "8c097dcd-a385-4dff-aef2-525d4bdc3d47",
   "metadata": {},
   "source": [
    "<center>\n",
    "<img src=\"./assets/transportation.svg\">\n",
    "</center>"
   ]
  },
  {
   "cell_type": "markdown",
   "id": "fc693b55-3bcd-48f0-b3cb-4fdcb5b25ca5",
   "metadata": {},
   "source": [
    "<center>\n",
    "<img src=\"./assets/utility.svg\">\n",
    "</center>"
   ]
  },
  {
   "cell_type": "markdown",
   "id": "6f8441b7-97f9-4a07-902e-46940419a91d",
   "metadata": {},
   "source": [
    "## Flying Principle"
   ]
  },
  {
   "cell_type": "markdown",
   "id": "e47dca1e-89ac-4129-ae8f-65990ba56676",
   "metadata": {},
   "source": [
    "### Thrust\n",
    "\n",
    "<center>\n",
    "<img src=\"./assets/thrust.svg\">\n",
    "</center>"
   ]
  },
  {
   "cell_type": "markdown",
   "id": "54e23e93-37c6-452a-8f54-79d36e475a4d",
   "metadata": {},
   "source": [
    "### Takeoff\n",
    "\n",
    "<center>\n",
    "    <img src=\"./assets/takeoff.svg\">\n",
    "</center>"
   ]
  },
  {
   "cell_type": "markdown",
   "id": "ef76f7af-8089-409f-94b3-c8270a8b3782",
   "metadata": {},
   "source": [
    "## Up and Down\n",
    "\n",
    "<center>\n",
    "<img src=\"./assets/up-down.svg\">\n",
    "</center>"
   ]
  },
  {
   "cell_type": "markdown",
   "id": "e172dfa4-1b51-438d-a858-b4cc6066abeb",
   "metadata": {},
   "source": [
    "### Forward and Backward\n",
    "\n",
    "<center>\n",
    "<img src=\"./assets/forward-backward.svg\">\n",
    "</center>"
   ]
  },
  {
   "cell_type": "markdown",
   "id": "bb94f4c8-65f4-4f5c-90f1-c59f499dcd32",
   "metadata": {},
   "source": [
    "### Move Right/Left\n",
    "\n",
    "\n",
    "<center>\n",
    "    <img src=\"./assets/right-left.svg\">\n",
    "</center>"
   ]
  },
  {
   "cell_type": "markdown",
   "id": "4325bf87-0822-4769-b4e0-5a49df160fea",
   "metadata": {},
   "source": [
    "### Rotate Clockwise/Counterclockwise\n",
    "\n",
    "<center>\n",
    "    <img src=\"./assets/rotate.svg\">\n",
    "</center>"
   ]
  },
  {
   "cell_type": "markdown",
   "id": "a6bf6c72-a23a-4efd-a16d-a7b540324063",
   "metadata": {
    "tags": []
   },
   "source": [
    "## Multirotor components architecture\n",
    "\n",
    "<center>\n",
    "<img src=\"./assets/components.svg\">\n",
    "</center>"
   ]
  },
  {
   "cell_type": "markdown",
   "id": "8e33c2c6-402a-458c-9179-fdb926b4677c",
   "metadata": {},
   "source": [
    "### Flight Controller Unit\n",
    "\n",
    "<center>\n",
    "    <img src=\"./assets/fcu.svg\">\n",
    "</center>"
   ]
  },
  {
   "cell_type": "markdown",
   "id": "4dd7f279-3b94-4280-a462-4598bb441a27",
   "metadata": {
    "tags": []
   },
   "source": [
    "<center>\n",
    "    <img src=\"./assets/fmu.png\">\n",
    "</center>\n",
    "\n"
   ]
  }
 ],
 "metadata": {
  "kernelspec": {
   "display_name": "Python 3 (ipykernel)",
   "language": "python",
   "name": "python3"
  },
  "language_info": {
   "codemirror_mode": {
    "name": "ipython",
    "version": 3
   },
   "file_extension": ".py",
   "mimetype": "text/x-python",
   "name": "python",
   "nbconvert_exporter": "python",
   "pygments_lexer": "ipython3",
   "version": "3.10.2"
  }
 },
 "nbformat": 4,
 "nbformat_minor": 5
}
