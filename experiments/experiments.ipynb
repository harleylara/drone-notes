{
 "cells": [
  {
   "cell_type": "code",
   "execution_count": 1,
   "id": "65ed8a47-9258-4142-94d7-523c2de23926",
   "metadata": {},
   "outputs": [],
   "source": [
    "from IPython.display import display, HTML, Javascript, IFrame, Latex"
   ]
  },
  {
   "cell_type": "markdown",
   "id": "56b22c1c-6e54-4d60-9fc0-46a3ff48733f",
   "metadata": {
    "tags": []
   },
   "source": [
    "# Dev area"
   ]
  },
  {
   "cell_type": "code",
   "execution_count": 5,
   "id": "812a7b16-cc96-470c-9ea6-72ac42193d2c",
   "metadata": {},
   "outputs": [
    {
     "data": {
      "text/html": [
       "\n",
       "<script type=\"text/javascript\" charset=\"UTF-8\" src=\"https://cdn.jsdelivr.net/npm/jsxgraph/distrib/jsxgraphcore.js\"></script>\n",
       "<link rel=\"stylesheet\" type=\"text/css\" href=\"https://cdn.jsdelivr.net/npm/jsxgraph/distrib/jsxgraph.css\" />\n",
       "<div id=\"jxgbox\" class=\"jxgbox\" style=\"width:500px; height:500px;\"></div>\n",
       "<script type=\"text/javascript\">\n",
       " var board = JXG.JSXGraph.initBoard('jxgbox', {boundingbox: [-5, 2, 5, -2]});\n",
       " var p = board.create('point',[-3,1]);\n",
       "</script>"
      ],
      "text/plain": [
       "<IPython.core.display.HTML object>"
      ]
     },
     "metadata": {},
     "output_type": "display_data"
    }
   ],
   "source": [
    "js_getResults = \"\"\"\n",
    "<script type=\"text/javascript\" charset=\"UTF-8\" src=\"https://cdn.jsdelivr.net/npm/jsxgraph/distrib/jsxgraphcore.js\"></script>\n",
    "<link rel=\"stylesheet\" type=\"text/css\" href=\"https://cdn.jsdelivr.net/npm/jsxgraph/distrib/jsxgraph.css\" />\n",
    "<div id=\"jxgbox\" class=\"jxgbox\" style=\"width:500px; height:500px;\"></div>\n",
    "<script type=\"text/javascript\">\n",
    " var board = JXG.JSXGraph.initBoard('jxgbox', {boundingbox: [-5, 2, 5, -2]});\n",
    " var p = board.create('point',[-3,1]);\n",
    "</script>\"\"\"\n",
    "\n",
    "display(HTML(js_getResults))"
   ]
  },
  {
   "cell_type": "code",
   "execution_count": 8,
   "id": "a8a35fc8-6591-4637-b7b5-938fe08d0207",
   "metadata": {},
   "outputs": [
    {
     "data": {
      "text/html": [
       "\n",
       "        <iframe\n",
       "            width=\"800\"\n",
       "            height=\"500\"\n",
       "            src=\"http://localhost:8000\"\n",
       "            frameborder=\"0\"\n",
       "            allowfullscreen\n",
       "            \n",
       "        ></iframe>\n",
       "        "
      ],
      "text/plain": [
       "<IPython.lib.display.IFrame at 0x2143fcb76d0>"
      ]
     },
     "execution_count": 8,
     "metadata": {},
     "output_type": "execute_result"
    }
   ],
   "source": [
    "simulator = \"\"\"<iframe src=\"http://127.0.0.1:4400/index.html\" title=\"description\"></iframe>\"\"\"\n",
    "\n",
    "IFrame(\"http://localhost:8000\", width=800, height=500)"
   ]
  },
  {
   "cell_type": "code",
   "execution_count": 4,
   "id": "0168d23e-8355-45a0-84ba-68f0138dcf9e",
   "metadata": {
    "tags": []
   },
   "outputs": [
    {
     "data": {
      "text/html": [
       "\n",
       "<div id=\"latex\" class=\"jxgbox\" style=\"width:500px; height:500px;\"></div>\n",
       "<script type=\"text/javascript\">\n",
       "JXG.Options.text.useMathJax = true;\n",
       "var brd, k;\n",
       "  \n",
       "brd = JXG.JSXGraph.initBoard('latex', {boundingbox:[-5,20,5,-5], axis:true, showNavigation:true, showCopyright:false});\n",
       "k = brd.create('slider',[[-4,-2],[3,-2],[-5,1,5]],{name:'n', snapWidth:1});\n",
       "brd.create('functiongraph', [function(t) {return JXG.Math.pow(Math.E,t*k.Value());}],{strokeColor:'#ff0000'});\n",
       "brd.create('text',[-4,15,\n",
       "  function() { \n",
       "    return '\\[f(x) = e^{' + k.Value() + 'x}\\]';\n",
       "  }]);\n",
       "</script>\n",
       "\n"
      ],
      "text/plain": [
       "<IPython.core.display.HTML object>"
      ]
     },
     "metadata": {},
     "output_type": "display_data"
    }
   ],
   "source": [
    "renderLatex = \"\"\"\n",
    "<div id=\"latex\" class=\"jxgbox\" style=\"width:500px; height:500px;\"></div>\n",
    "<script type=\"text/javascript\">\n",
    "JXG.Options.text.useMathJax = true;\n",
    "var brd, k;\n",
    "  \n",
    "brd = JXG.JSXGraph.initBoard('latex', {boundingbox:[-5,20,5,-5], axis:true, showNavigation:true, showCopyright:false});\n",
    "k = brd.create('slider',[[-4,-2],[3,-2],[-5,1,5]],{name:'n', snapWidth:1});\n",
    "brd.create('functiongraph', [function(t) {return JXG.Math.pow(Math.E,t*k.Value());}],{strokeColor:'#ff0000'});\n",
    "brd.create('text',[-4,15,\n",
    "  function() { \n",
    "    return '\\\\[f(x) = e^{' + k.Value() + 'x}\\\\]';\n",
    "  }]);\n",
    "</script>\n",
    "\n",
    "\"\"\"\n",
    "\n",
    "display(HTML(renderLatex))"
   ]
  },
  {
   "cell_type": "markdown",
   "id": "0eecebeb-a2ea-45a5-abd9-174ff008ef7a",
   "metadata": {},
   "source": []
  }
 ],
 "metadata": {
  "kernelspec": {
   "display_name": "Python 3 (ipykernel)",
   "language": "python",
   "name": "python3"
  },
  "language_info": {
   "codemirror_mode": {
    "name": "ipython",
    "version": 3
   },
   "file_extension": ".py",
   "mimetype": "text/x-python",
   "name": "python",
   "nbconvert_exporter": "python",
   "pygments_lexer": "ipython3",
   "version": "3.10.2"
  }
 },
 "nbformat": 4,
 "nbformat_minor": 5
}
