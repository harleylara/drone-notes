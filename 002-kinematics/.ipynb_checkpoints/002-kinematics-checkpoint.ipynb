{
 "cells": [
  {
   "cell_type": "code",
   "execution_count": 2,
   "id": "230d3a77",
   "metadata": {
    "tags": []
   },
   "outputs": [
    {
     "data": {
      "text/latex": [
       "% \\input{commands.tex}\n",
       "\n",
       "% Bold symbol definition\n",
       "$\n",
       "\\newcommand{\\bm}[1]{{\\boldsymbol #1}}\n",
       "$\n",
       "\n",
       "% Vectors\n",
       "$\n",
       "\\def\\vzero{{\\bm{0}}}\n",
       "\\def\\vone{{\\bm{1}}}\n",
       "\\def\\vmu{{\\bm{\\mu}}}\n",
       "\\def\\vtheta{{\\bm{\\theta}}}\n",
       "\\def\\va{{\\bm{a}}}\n",
       "\\def\\vb{{\\bm{b}}}\n",
       "\\def\\vc{{\\bm{c}}}\n",
       "\\def\\vd{{\\bm{d}}}\n",
       "\\def\\ve{{\\bm{e}}}\n",
       "\\def\\vf{{\\bm{f}}}\n",
       "\\def\\vg{{\\bm{g}}}\n",
       "\\def\\vh{{\\bm{h}}}\n",
       "\\def\\vi{{\\bm{i}}}\n",
       "\\def\\vj{{\\bm{j}}}\n",
       "\\def\\vk{{\\bm{k}}}\n",
       "\\def\\vl{{\\bm{l}}}\n",
       "\\def\\vm{{\\bm{m}}}\n",
       "\\def\\vn{{\\bm{n}}}\n",
       "\\def\\vo{{\\bm{o}}}\n",
       "\\def\\vp{{\\bm{p}}}\n",
       "\\def\\vq{{\\bm{q}}}\n",
       "\\def\\vr{{\\bm{r}}}\n",
       "\\def\\vs{{\\bm{s}}}\n",
       "\\def\\vt{{\\bm{t}}}\n",
       "\\def\\vu{{\\bm{u}}}\n",
       "\\def\\vv{{\\bm{v}}}\n",
       "\\def\\vw{{\\bm{w}}}\n",
       "\\def\\vx{{\\bm{x}}}\n",
       "\\def\\vy{{\\bm{y}}}\n",
       "\\def\\vz{{\\bm{z}}}\n",
       "$\n",
       "\n",
       "% Elements of vectors\n",
       "$\n",
       "\\def\\evalpha{{\\alpha}}\n",
       "\\def\\evbeta{{\\beta}}\n",
       "\\def\\evepsilon{{\\epsilon}}\n",
       "\\def\\evlambda{{\\lambda}}\n",
       "\\def\\evomega{{\\omega}}\n",
       "\\def\\evmu{{\\mu}}\n",
       "\\def\\evpsi{{\\psi}}\n",
       "\\def\\evsigma{{\\sigma}}\n",
       "\\def\\evtheta{{\\theta}}\n",
       "\\def\\eva{{a}}\n",
       "\\def\\evb{{b}}\n",
       "\\def\\evc{{c}}\n",
       "\\def\\evd{{d}}\n",
       "\\def\\eve{{e}}\n",
       "\\def\\evf{{f}}\n",
       "\\def\\evg{{g}}\n",
       "\\def\\evh{{h}}\n",
       "\\def\\evi{{i}}\n",
       "\\def\\evj{{j}}\n",
       "\\def\\evk{{k}}\n",
       "\\def\\evl{{l}}\n",
       "\\def\\evm{{m}}\n",
       "\\def\\evn{{n}}\n",
       "\\def\\evo{{o}}\n",
       "\\def\\evp{{p}}\n",
       "\\def\\evq{{q}}\n",
       "\\def\\evr{{r}}\n",
       "\\def\\evs{{s}}\n",
       "\\def\\evt{{t}}\n",
       "\\def\\evu{{u}}\n",
       "\\def\\evv{{v}}\n",
       "\\def\\evw{{w}}\n",
       "\\def\\evx{{x}}\n",
       "\\def\\evy{{y}}\n",
       "\\def\\evz{{z}}\n",
       "$\n",
       "\n",
       "% Matrix\n",
       "$\n",
       "% \\newcommand{\\m}[1]{{\\bm{#1}}}\n",
       "\\def\\mA{{\\bm{A}}}\n",
       "\\def\\mB{{\\bm{B}}}\n",
       "\\def\\mC{{\\bm{C}}}\n",
       "\\def\\mD{{\\bm{D}}}\n",
       "\\def\\mE{{\\bm{E}}}\n",
       "\\def\\mF{{\\bm{F}}}\n",
       "\\def\\mG{{\\bm{G}}}\n",
       "\\def\\mH{{\\bm{H}}}\n",
       "\\def\\mI{{\\bm{I}}}\n",
       "\\def\\mJ{{\\bm{J}}}\n",
       "\\def\\mK{{\\bm{K}}}\n",
       "\\def\\mL{{\\bm{L}}}\n",
       "\\def\\mM{{\\bm{M}}}\n",
       "\\def\\mN{{\\bm{N}}}\n",
       "\\def\\mO{{\\bm{O}}}\n",
       "\\def\\mP{{\\bm{P}}}\n",
       "\\def\\mQ{{\\bm{Q}}}\n",
       "\\def\\mR{{\\bm{R}}}\n",
       "\\def\\mS{{\\bm{S}}}\n",
       "\\def\\mT{{\\bm{T}}}\n",
       "\\def\\mU{{\\bm{U}}}\n",
       "\\def\\mV{{\\bm{V}}}\n",
       "\\def\\mW{{\\bm{W}}}\n",
       "\\def\\mX{{\\bm{X}}}\n",
       "\\def\\mY{{\\bm{Y}}}\n",
       "\\def\\mZ{{\\bm{Z}}}\n",
       "\\def\\mBeta{{\\bm{\\beta}}}\n",
       "\\def\\mPhi{{\\bm{\\Phi}}}\n",
       "\\def\\mLambda{{\\bm{\\Lambda}}}\n",
       "\\def\\mSigma{{\\bm{\\Sigma}}}\n",
       "$\n",
       "\n",
       "% Graph\n",
       "$\n",
       "\\def\\gA{{\\mathcal{A}}}\n",
       "\\def\\gB{{\\mathcal{B}}}\n",
       "\\def\\gC{{\\mathcal{C}}}\n",
       "\\def\\gD{{\\mathcal{D}}}\n",
       "\\def\\gE{{\\mathcal{E}}}\n",
       "\\def\\gF{{\\mathcal{F}}}\n",
       "\\def\\gG{{\\mathcal{G}}}\n",
       "\\def\\gH{{\\mathcal{H}}}\n",
       "\\def\\gI{{\\mathcal{I}}}\n",
       "\\def\\gJ{{\\mathcal{J}}}\n",
       "\\def\\gK{{\\mathcal{K}}}\n",
       "\\def\\gL{{\\mathcal{L}}}\n",
       "\\def\\gM{{\\mathcal{M}}}\n",
       "\\def\\gN{{\\mathcal{N}}}\n",
       "\\def\\gO{{\\mathcal{O}}}\n",
       "\\def\\gP{{\\mathcal{P}}}\n",
       "\\def\\gQ{{\\mathcal{Q}}}\n",
       "\\def\\gR{{\\mathcal{R}}}\n",
       "\\def\\gS{{\\mathcal{S}}}\n",
       "\\def\\gT{{\\mathcal{T}}}\n",
       "\\def\\gU{{\\mathcal{U}}}\n",
       "\\def\\gV{{\\mathcal{V}}}\n",
       "\\def\\gW{{\\mathcal{W}}}\n",
       "\\def\\gX{{\\mathcal{X}}}\n",
       "\\def\\gY{{\\mathcal{Y}}}\n",
       "\\def\\gZ{{\\mathcal{Z}}}\n",
       "$\n",
       "\n",
       "% Sets\n",
       "$\n",
       "\\def\\sA{{\\mathbb{A}}}\n",
       "\\def\\sB{{\\mathbb{B}}}\n",
       "\\def\\sC{{\\mathbb{C}}}\n",
       "\\def\\sD{{\\mathbb{D}}}\n",
       "% Don't use a set called E, because this would be the same as our symbol\n",
       "% for expectation.\n",
       "\\def\\sF{{\\mathbb{F}}}\n",
       "\\def\\sG{{\\mathbb{G}}}\n",
       "\\def\\sH{{\\mathbb{H}}}\n",
       "\\def\\sI{{\\mathbb{I}}}\n",
       "\\def\\sJ{{\\mathbb{J}}}\n",
       "\\def\\sK{{\\mathbb{K}}}\n",
       "\\def\\sL{{\\mathbb{L}}}\n",
       "\\def\\sM{{\\mathbb{M}}}\n",
       "\\def\\sN{{\\mathbb{N}}}\n",
       "\\def\\sO{{\\mathbb{O}}}\n",
       "\\def\\sP{{\\mathbb{P}}}\n",
       "\\def\\sQ{{\\mathbb{Q}}}\n",
       "\\def\\sR{{\\mathbb{R}}}\n",
       "\\def\\sS{{\\mathbb{S}}}\n",
       "\\def\\sT{{\\mathbb{T}}}\n",
       "\\def\\sU{{\\mathbb{U}}}\n",
       "\\def\\sV{{\\mathbb{V}}}\n",
       "\\def\\sW{{\\mathbb{W}}}\n",
       "\\def\\sX{{\\mathbb{X}}}\n",
       "\\def\\sY{{\\mathbb{Y}}}\n",
       "\\def\\sZ{{\\mathbb{Z}}}\n",
       "$\n",
       "\n",
       "% Reference Frames\n",
       "$\n",
       "\\def\\rfA{{\\{\\mA\\}}}\n",
       "\\def\\rfB{{\\{\\mB\\}}}\n",
       "\\def\\rfC{{\\{\\mC\\}}}\n",
       "\\def\\rfD{{\\{\\mD\\}}}\n",
       "\\def\\rfE{{\\{\\mE\\}}}\n",
       "\\def\\rfF{{\\{\\mF\\}}}\n",
       "\\def\\rfG{{\\{\\mG\\}}}\n",
       "\\def\\rfH{{\\{\\mH\\}}}\n",
       "\\def\\rfI{{\\{\\mI\\}}}\n",
       "\\def\\rfJ{{\\{\\mJ\\}}}\n",
       "\\def\\rfK{{\\{\\mK\\}}}\n",
       "\\def\\rfL{{\\{\\mL\\}}}\n",
       "\\def\\rfM{{\\{\\mM\\}}}\n",
       "\\def\\rfN{{\\{\\mN\\}}}\n",
       "\\def\\rfO{{\\{\\mO\\}}}\n",
       "\\def\\rfP{{\\{\\mP\\}}}\n",
       "\\def\\rfQ{{\\{\\mQ\\}}}\n",
       "\\def\\rfR{{\\{\\mR\\}}}\n",
       "\\def\\rfS{{\\{\\mS\\}}}\n",
       "\\def\\rfT{{\\{\\mT\\}}}\n",
       "\\def\\rfU{{\\{\\mU\\}}}\n",
       "\\def\\rfV{{\\{\\mV\\}}}\n",
       "\\def\\rfW{{\\{\\mW\\}}}\n",
       "\\def\\rfX{{\\{\\mX\\}}}\n",
       "\\def\\rfY{{\\{\\mY\\}}}\n",
       "\\def\\rfZ{{\\{\\mZ\\}}}\n",
       "$\n",
       "\n",
       "% Transpose\n",
       "$\n",
       "\\def\\transpose{{\\mathsf{T}}}\n",
       "$\n",
       "\n",
       "% Aumented vector\n",
       "$\n",
       "\\def\\ava{{\\bar{\\va}}}\n",
       "\\def\\avb{{\\bar{\\vb}}}\n",
       "\\def\\avc{{\\bar{\\vc}}}\n",
       "\\def\\avd{{\\bar{\\vd}}}\n",
       "\\def\\ave{{\\bar{\\ve}}}\n",
       "\\def\\avf{{\\bar{\\vf}}}\n",
       "\\def\\avg{{\\bar{\\vg}}}\n",
       "\\def\\avh{{\\bar{\\vh}}}\n",
       "\\def\\avi{{\\bar{\\vi}}}\n",
       "\\def\\avj{{\\bar{\\vj}}}\n",
       "\\def\\avk{{\\bar{\\vk}}}\n",
       "\\def\\avl{{\\bar{\\vl}}}\n",
       "\\def\\avm{{\\bar{\\vm}}}\n",
       "\\def\\avn{{\\bar{\\vn}}}\n",
       "\\def\\avo{{\\bar{\\vo}}}\n",
       "\\def\\avp{{\\bar{\\vp}}}\n",
       "\\def\\avq{{\\bar{\\vq}}}\n",
       "\\def\\avr{{\\bar{\\vr}}}\n",
       "\\def\\avs{{\\bar{\\vs}}}\n",
       "\\def\\avt{{\\bar{\\vt}}}\n",
       "\\def\\avu{{\\bar{\\vu}}}\n",
       "\\def\\avv{{\\bar{\\vv}}}\n",
       "\\def\\avw{{\\bar{\\vw}}}\n",
       "\\def\\avx{{\\bar{\\vx}}}\n",
       "\\def\\avy{{\\bar{\\vy}}}\n",
       "\\def\\avz{{\\bar{\\vz}}}\n",
       "$\n",
       "\n",
       "% Homogeneous coordibates\n",
       "$\n",
       "\\def\\hca{{\\tilde{a}}}\n",
       "\\def\\hcb{{\\tilde{b}}}\n",
       "\\def\\hcc{{\\tilde{c}}}\n",
       "\\def\\hcd{{\\tilde{d}}}\n",
       "\\def\\hce{{\\tilde{e}}}\n",
       "\\def\\hcf{{\\tilde{f}}}\n",
       "\\def\\hcg{{\\tilde{g}}}\n",
       "\\def\\hch{{\\tilde{h}}}\n",
       "\\def\\hci{{\\tilde{i}}}\n",
       "\\def\\hcj{{\\tilde{j}}}\n",
       "\\def\\hck{{\\tilde{k}}}\n",
       "\\def\\hcl{{\\tilde{l}}}\n",
       "\\def\\hcm{{\\tilde{m}}}\n",
       "\\def\\hcn{{\\tilde{n}}}\n",
       "\\def\\hco{{\\tilde{o}}}\n",
       "\\def\\hcp{{\\tilde{p}}}\n",
       "\\def\\hcq{{\\tilde{q}}}\n",
       "\\def\\hcr{{\\tilde{r}}}\n",
       "\\def\\hcs{{\\tilde{s}}}\n",
       "\\def\\hct{{\\tilde{t}}}\n",
       "\\def\\hcu{{\\tilde{u}}}\n",
       "\\def\\hcv{{\\tilde{v}}}\n",
       "\\def\\hcw{{\\tilde{w}}}\n",
       "\\def\\hcx{{\\tilde{x}}}\n",
       "\\def\\hcy{{\\tilde{y}}}\n",
       "\\def\\hcz{{\\tilde{z}}}\n",
       "$\n",
       "\n",
       "% Homogeneous vectors: used to represent lines\n",
       "$\n",
       "\\def\\hva{{\\tilde{\\va}}}\n",
       "\\def\\hvb{{\\tilde{\\vb}}}\n",
       "\\def\\hvc{{\\tilde{\\vc}}}\n",
       "\\def\\hvd{{\\tilde{\\vd}}}\n",
       "\\def\\hve{{\\tilde{\\ve}}}\n",
       "\\def\\hvf{{\\tilde{\\vf}}}\n",
       "\\def\\hvg{{\\tilde{\\vg}}}\n",
       "\\def\\hvh{{\\tilde{\\vh}}}\n",
       "\\def\\hvi{{\\tilde{\\vi}}}\n",
       "\\def\\hvj{{\\tilde{\\vj}}}\n",
       "\\def\\hvk{{\\tilde{\\vk}}}\n",
       "\\def\\hvl{{\\tilde{\\vl}}}\n",
       "\\def\\hvm{{\\tilde{\\vm}}}\n",
       "\\def\\hvn{{\\tilde{\\vn}}}\n",
       "\\def\\hvo{{\\tilde{\\vo}}}\n",
       "\\def\\hvp{{\\tilde{\\vp}}}\n",
       "\\def\\hvq{{\\tilde{\\vq}}}\n",
       "\\def\\hvr{{\\tilde{\\vr}}}\n",
       "\\def\\hvs{{\\tilde{\\vs}}}\n",
       "\\def\\hvt{{\\tilde{\\vt}}}\n",
       "\\def\\hvu{{\\tilde{\\vu}}}\n",
       "\\def\\hvv{{\\tilde{\\vv}}}\n",
       "\\def\\hvw{{\\tilde{\\vw}}}\n",
       "\\def\\hvx{{\\tilde{\\vx}}}\n",
       "\\def\\hvy{{\\tilde{\\vy}}}\n",
       "\\def\\hvz{{\\tilde{\\vz}}}\n",
       "$\n",
       "\n",
       "% Normal vector\n",
       "$\n",
       "\\def\\nva{{\\hat{\\va}}}\n",
       "\\def\\nvb{{\\hat{\\vb}}}\n",
       "\\def\\nvc{{\\hat{\\vc}}}\n",
       "\\def\\nvd{{\\hat{\\vd}}}\n",
       "\\def\\nve{{\\hat{\\ve}}}\n",
       "\\def\\nvf{{\\hat{\\vf}}}\n",
       "\\def\\nvg{{\\hat{\\vg}}}\n",
       "\\def\\nvh{{\\hat{\\vh}}}\n",
       "\\def\\nvi{{\\hat{\\vi}}}\n",
       "\\def\\nvj{{\\hat{\\vj}}}\n",
       "\\def\\nvk{{\\hat{\\vk}}}\n",
       "\\def\\nvl{{\\hat{\\vl}}}\n",
       "\\def\\nvm{{\\hat{\\vm}}}\n",
       "\\def\\nvn{{\\hat{\\vn}}}\n",
       "\\def\\nvo{{\\hat{\\vo}}}\n",
       "\\def\\nvp{{\\hat{\\vp}}}\n",
       "\\def\\nvq{{\\hat{\\vq}}}\n",
       "\\def\\nvr{{\\hat{\\vr}}}\n",
       "\\def\\nvs{{\\hat{\\vs}}}\n",
       "\\def\\nvt{{\\hat{\\vt}}}\n",
       "\\def\\nvu{{\\hat{\\vu}}}\n",
       "\\def\\nvv{{\\hat{\\vv}}}\n",
       "\\def\\nvw{{\\hat{\\vw}}}\n",
       "\\def\\nvx{{\\hat{\\vx}}}\n",
       "\\def\\nvy{{\\hat{\\vy}}}\n",
       "\\def\\nvz{{\\hat{\\vz}}}\n",
       "$\n",
       "\n",
       "% Normal scalar\n",
       "$\n",
       "\\def\\nsa{{\\hat{a}}}\n",
       "\\def\\nsb{{\\hat{b}}}\n",
       "\\def\\nsc{{\\hat{c}}}\n",
       "\\def\\nsd{{\\hat{d}}}\n",
       "\\def\\nse{{\\hat{e}}}\n",
       "\\def\\nsf{{\\hat{f}}}\n",
       "\\def\\nsg{{\\hat{g}}}\n",
       "\\def\\nsh{{\\hat{h}}}\n",
       "\\def\\nsi{{\\hat{i}}}\n",
       "\\def\\nsj{{\\hat{j}}}\n",
       "\\def\\nsk{{\\hat{k}}}\n",
       "\\def\\nsl{{\\hat{l}}}\n",
       "\\def\\nsm{{\\hat{m}}}\n",
       "\\def\\nsn{{\\hat{n}}}\n",
       "\\def\\nso{{\\hat{o}}}\n",
       "\\def\\nsp{{\\hat{p}}}\n",
       "\\def\\nsq{{\\hat{q}}}\n",
       "\\def\\nsr{{\\hat{r}}}\n",
       "\\def\\nss{{\\hat{s}}}\n",
       "\\def\\nst{{\\hat{t}}}\n",
       "\\def\\nsu{{\\hat{u}}}\n",
       "\\def\\nsv{{\\hat{v}}}\n",
       "\\def\\nsw{{\\hat{w}}}\n",
       "\\def\\nsx{{\\hat{x}}}\n",
       "\\def\\nsy{{\\hat{y}}}\n",
       "\\def\\nsz{{\\hat{z}}}\n",
       "$\n",
       "\n",
       "% Roll, Pitch and Yaw\n",
       "$\n",
       "\\def\\roll{{\\phi}}\n",
       "\\def\\pitch{{\\theta}}\n",
       "\\def\\yaw{{\\psi}}\n",
       "$"
      ],
      "text/plain": [
       "<IPython.core.display.Latex object>"
      ]
     },
     "execution_count": 2,
     "metadata": {},
     "output_type": "execute_result"
    }
   ],
   "source": [
    "from IPython.display import display, HTML, Javascript, IFrame, Latex\n",
    "\n",
    "Latex(filename=\"../notation/notation.tex\")"
   ]
  },
  {
   "cell_type": "code",
   "execution_count": null,
   "id": "c8423f4a-389a-497a-9073-fafb30a7905c",
   "metadata": {},
   "outputs": [],
   "source": [
    "import_jsxgraph = \"\"\"\n",
    "<script type=\"text/javascript\" charset=\"UTF-8\" src=\"https://cdn.jsdelivr.net/npm/jsxgraph/distrib/jsxgraphcore.js\"></script>\n",
    "<link rel=\"stylesheet\" type=\"text/css\" href=\"https://cdn.jsdelivr.net/npm/jsxgraph/distrib/jsxgraph.css\" />\n",
    "\"\"\"\n",
    "\n",
    "display(HTML(import_jsxgraph))"
   ]
  },
  {
   "cell_type": "markdown",
   "id": "cda6016e",
   "metadata": {
    "tags": []
   },
   "source": [
    "# Recap on Linear Algebra"
   ]
  },
  {
   "cell_type": "markdown",
   "id": "7782ca56",
   "metadata": {},
   "source": [
    "## Vector\n",
    "\n",
    "A vector represents a point in n-dimensional space.\n",
    "\n",
    "$$\n",
    "\\vx = \\begin{pmatrix}\n",
    "x_1 \\\\ \n",
    "x_2 \\\\\n",
    "\\cdots \\\\\n",
    "x_n\n",
    "\\end{pmatrix} \\in \\sR^n\n",
    "$$\n",
    "\n",
    "<center>\n",
    "<img src=\"./assets/vector.svg\">\n",
    "</center>"
   ]
  },
  {
   "cell_type": "markdown",
   "id": "f5904857",
   "metadata": {},
   "source": [
    "### Operations on Vectors\n",
    "\n",
    "- Scalar multiplication\n",
    "- Addition/subtraction\n",
    "- Length\n",
    "- Normalized vector\n",
    "- Dot product\n",
    "- Cross product"
   ]
  },
  {
   "cell_type": "markdown",
   "id": "18d51762",
   "metadata": {},
   "source": [
    "### Scalar Multiplication\n",
    "\n",
    "$$\n",
    "a \\vx\n",
    "$$"
   ]
  },
  {
   "cell_type": "code",
   "execution_count": 20,
   "id": "1e76a271",
   "metadata": {
    "tags": []
   },
   "outputs": [
    {
     "data": {
      "text/html": [
       "<div id=\"jxgbox\" class=\"jxgbox\" style=\"width:500px; height:500px;\"></div>\n",
       "<script type=\"text/javascript\">\n",
       "\n",
       "    var board = JXG.JSXGraph.initBoard('jxgbox', {boundingbox:[-5,10,5,-5], axis:true, showNavigation:true, showCopyright:false});\n",
       "    \n",
       "    var a = board.create('slider',[[-4,-2],[4,-2],[-4,1.5,4]],{name:'a'});\n",
       "    var p1 = board.create('point',[2,5]);\n",
       "    var l1 = board.create('line',[[0,0],p1],{straightFirst:false, straightLast:false, lastArrow:true});\n",
       "    l1.setAttribute({fixed:true});\n",
       "    var p2 = board.create('point',[\n",
       "    function() {return a.Value()*p1.X();},\n",
       "    function() {return a.Value()*p1.Y();}]);\n",
       "    var l2 = board.create('line',[p1,p2],{straightFirst:false, straightLast:false, lastArrow:true});\n",
       "</script>"
      ],
      "text/plain": [
       "<IPython.core.display.HTML object>"
      ]
     },
     "metadata": {},
     "output_type": "display_data"
    }
   ],
   "source": [
    "display(HTML(open(\"./js/scalar.js\", \"r\").read()))"
   ]
  },
  {
   "cell_type": "markdown",
   "id": "f009d0ca",
   "metadata": {},
   "source": [
    "### Addition/subtraction\n",
    "\n",
    "$$\n",
    "\\vx+\\vy\n",
    "$$"
   ]
  },
  {
   "cell_type": "code",
   "execution_count": 21,
   "id": "67d47db3",
   "metadata": {
    "tags": []
   },
   "outputs": [
    {
     "data": {
      "text/html": [
       "<div id=\"b2\" class=\"jxgbox\" style=\"width:500px; height:500px;\"></div>\n",
       "<script type=\"text/javascript\">\n",
       "    var board = JXG.JSXGraph.initBoard('b2', {boundingbox:[-2,10,5,-2], axis:true, showNavigation:true, showCopyright:false});\n",
       "    \n",
       "    var p1 = board.create('point',[1,4]);\n",
       "    var l1 = board.create('line',[[0,0],p1],{straightFirst:false, straightLast:false, lastArrow:true});\n",
       "    l1.setAttribute({fixed:true});\n",
       "    var x = board.create('text',[-0.2, 0, '$x$'], {anchor: l1});\n",
       "    var p2 = board.create('point',[4,5]);\n",
       "    var l2 = board.create('line',[p1,p2],{straightFirst:false, straightLast:false, lastArrow:true});\n",
       "    var y = board.create('text',[0, 0.5, '$y$'], {anchor: l2});\n",
       "    var l3 = board.create('line',[[0,0],p2],{straightFirst:false, straightLast:false, lastArrow:true});\n",
       "    l3.setAttribute({fixed:true});\n",
       "    var text = board.create('text',[0.2, 0, \n",
       "    function(){\n",
       "        return l3.L().toFixed(2);\n",
       "    }], {anchor: l3});\n",
       "</script>"
      ],
      "text/plain": [
       "<IPython.core.display.HTML object>"
      ]
     },
     "metadata": {},
     "output_type": "display_data"
    }
   ],
   "source": [
    "display(HTML(open(\"./js/addition.js\", \"r\").read()))"
   ]
  },
  {
   "cell_type": "markdown",
   "id": "5e4dd134",
   "metadata": {},
   "source": [
    "### Length\n",
    "\n",
    "Using euclidean norm:\n",
    "\n",
    "$$\n",
    "\\begin{Vmatrix}\n",
    "\\vx\n",
    "\\end{Vmatrix}_2 = \\begin{Vmatrix}\n",
    "\\vx\n",
    "\\end{Vmatrix} = \\sqrt{x_1^2 + x_2^2 + \\cdots}\n",
    "$$"
   ]
  },
  {
   "cell_type": "code",
   "execution_count": 22,
   "id": "a76b42ff",
   "metadata": {
    "tags": []
   },
   "outputs": [
    {
     "data": {
      "text/html": [
       "<div id=\"b3\" class=\"jxgbox\" style=\"width:500px; height:500px;\"></div>\n",
       "<script type=\"text/javascript\">\n",
       "\n",
       "    var board = JXG.JSXGraph.initBoard('b3', {boundingbox:[-2,10,5,-2], axis:true, showNavigation:true, showCopyright:false});\n",
       "    \n",
       "    var p1 = board.create('point',[2,5]);\n",
       "    var l1 = board.create('line',[[0,0],p1],{straightFirst:false, straightLast:false, lastArrow:true});\n",
       "    l1.setAttribute({fixed:true});\n",
       "    var text = board.create('text',[0.2, 0, \n",
       "    function(){\n",
       "        return l1.L().toFixed(2);\n",
       "    }], {anchor: l1});\n",
       "    \n",
       "    var x = board.create('line',[[\n",
       "    function(){return p1.X();},0],p1],{straightFirst:false, straightLast:false, strokeWidth:2, dash:2});\n",
       "    var y = board.create('line',[[0,\n",
       "    function(){return p1.Y();}],p1],{straightFirst:false, straightLast:false, strokeWidth:2, dash:2});\n",
       "\n",
       "</script>"
      ],
      "text/plain": [
       "<IPython.core.display.HTML object>"
      ]
     },
     "metadata": {},
     "output_type": "display_data"
    }
   ],
   "source": [
    "display(HTML(open(\"./js/length.js\", \"r\").read()))"
   ]
  },
  {
   "cell_type": "markdown",
   "id": "356adccb",
   "metadata": {},
   "source": [
    "### Normalized Vector\n",
    "\n",
    "$$\n",
    "\\nvx = \\frac{\\vx}{\\begin{Vmatrix} \\vx \\end{Vmatrix}}\n",
    "$$"
   ]
  },
  {
   "cell_type": "code",
   "execution_count": 23,
   "id": "2045e901",
   "metadata": {
    "tags": []
   },
   "outputs": [
    {
     "data": {
      "text/html": [
       "<div id=\"b4\" class=\"jxgbox\" style=\"width:500px; height:500px;\"></div>\n",
       "<script type=\"text/javascript\">\n",
       "\n",
       "    var board = JXG.JSXGraph.initBoard('b4', {boundingbox:[-2,5,5,-2], axis:true, showNavigation:true, showCopyright:false});\n",
       "    \n",
       "    var p1 = board.create('point',[2,3]);\n",
       "    var l1 = board.create('line',[[0,0],p1],{straightFirst:false, straightLast:false, lastArrow:true});\n",
       "    l1.setAttribute({fixed:true});\n",
       "    function norm(point) {\n",
       "      return Math.sqrt(p1.X()**2 + p1.Y()**2)\n",
       "    }\n",
       "    var p2 = board.create('point',[\n",
       "    function() {return p1.X()/norm(p1);},\n",
       "    function() {return p1.Y()/norm(p1);}]);\n",
       "    var normal = board.create('line',[[0,0],p2],{straightFirst:false, straightLast:false, lastArrow:true, strokeColor:'#ff0000'});\n",
       "</script>"
      ],
      "text/plain": [
       "<IPython.core.display.HTML object>"
      ]
     },
     "metadata": {},
     "output_type": "display_data"
    }
   ],
   "source": [
    "display(HTML(open(\"./js/norm-vector.js\", \"r\").read()))"
   ]
  },
  {
   "cell_type": "markdown",
   "id": "401c8085",
   "metadata": {},
   "source": [
    "### Dot Product\n",
    "\n",
    "$$\n",
    "\\vx \\cdot \\vy = \\begin{Vmatrix} \\vx \\end{Vmatrix} \\begin{Vmatrix} \\vy \\end{Vmatrix} \\cos{\\theta}\n",
    "$$\n",
    "\n",
    "if $\\vx \\cdot \\vy= 0$, $\\vx$ and $\\vy$ are orthogonal\n",
    "\n",
    "$$\n",
    "\\cos{\\theta} = \\frac{\\vx \\cdot \\vy}{\\begin{Vmatrix} \\vx \\end{Vmatrix} \\begin{Vmatrix} \\vy \\end{Vmatrix}}\n",
    "$$"
   ]
  },
  {
   "cell_type": "markdown",
   "id": "e863aa47",
   "metadata": {
    "jp-MarkdownHeadingCollapsed": true,
    "tags": []
   },
   "source": [
    "### Cross Product\n",
    "\n",
    "$$\n",
    "\\vx \\times \\vy = \\begin{Vmatrix} \\vx \\end{Vmatrix} \\begin{Vmatrix} \\vy \\end{Vmatrix} \\sin{(\\theta)} \\nvn\n",
    "$$\n",
    "\n",
    "Definition:\n",
    "\n",
    "$$\n",
    "\\vx \\times \\vy = \\begin{pmatrix} \n",
    "x_2y_3 - x_3y_2 \\\\\n",
    "x_3y_1 - x_1y_3 \\\\\n",
    "x_1y_2 - x_2y_1\n",
    "\\end{pmatrix}\n",
    "$$\n",
    "\n",
    "Matrix Notation:\n",
    "\n",
    "$$\n",
    "[\\vx]_x = \\begin{pmatrix}\n",
    "0 && -x_3 && x_2 \\\\\n",
    "x_3 && 0 && -x1 \\\\\n",
    "-x_2 && x_1 && 0 \\\\\n",
    "\\end{pmatrix} \n",
    "$$"
   ]
  },
  {
   "cell_type": "markdown",
   "id": "82c1a68f",
   "metadata": {},
   "source": [
    "## Matrices\n",
    "\n",
    "Rectangular array of numbers\n",
    "\n",
    "$$\n",
    "\\mX = \\begin{pmatrix}\n",
    "x_{11} && x_{12} && \\cdots && x_{1m} \\\\\n",
    "x_{21} && x_{22} && \\cdots && x_{2m} \\\\\n",
    "\\vdots && \\vdots && \\ddots && \\vdots \\\\\n",
    "x_{n1} && x_{n2} && \\cdots && x_{nm} \\\\\n",
    "\\end{pmatrix} \\in \\sR^{n \\times m}\n",
    "$$\n",
    "\n",
    "- First index refers to row\n",
    "- Second index refers to column"
   ]
  },
  {
   "cell_type": "markdown",
   "id": "0f5214eb",
   "metadata": {},
   "source": [
    "### Types of Matrices\n",
    "\n",
    "- Square matrix\n",
    "- Diagonal matrix\n",
    "- Identity matrix $\\mI$ or $\\mI_n$\n",
    "- Upper and lower triangular matrix\n",
    "- Symmetric matrix $\\mX = \\mX^\\transpose$\n",
    "- Skew-symmetric matrix $\\mX = -\\mX^\\transpose$\n",
    "- Positive (Semi) definite matrix $\\va^\\transpose \\mX \\va \\geq 0$\n",
    "- Orthogonal matrix $\\mX^\\transpose = \\mX^{-1}$"
   ]
  },
  {
   "cell_type": "markdown",
   "id": "a025de3d",
   "metadata": {},
   "source": [
    "### Operations on Matrices\n",
    "\n",
    "- Matrix-vector multiplication $\\mM \\vx$\n",
    "- Matrix-matrix multiplication $\\mM_1 \\mM_2$\n",
    "- Inverse $\\mM^{-1}$\n",
    "- Transpose $\\mM^\\transpose$"
   ]
  },
  {
   "cell_type": "markdown",
   "id": "19ad23f0",
   "metadata": {},
   "source": [
    "## Coordinate System and Reference Frames\n",
    "\n"
   ]
  },
  {
   "cell_type": "markdown",
   "id": "272e4149",
   "metadata": {},
   "source": [
    "\n",
    "<center>\n",
    "<img src=\"./assets/coordinate-system.svg\">\n",
    "<center>"
   ]
  },
  {
   "cell_type": "markdown",
   "id": "6949ae64",
   "metadata": {},
   "source": [
    "### Reference Frames\n",
    "\n",
    "**Inertial/World frame**\n",
    "- Earth-fixed coordinate system\n",
    "- Origin located on the ground (e.g. base station)\n",
    "- Conventions:\n",
    "    - For **PX4** and **Ardupilot**, X North, Y East, Z Down (NED) or X Forward, Y Right, Z Down (FRD)\n",
    "    - For **Robot Operating System (ROS)**, X East, Y North, Z Up (ENU) or X Forward, Y Left, Z Up (FLU), and usually named `map`. More details [here](https://www.ros.org/reps/rep-0105.html)\n",
    "\n",
    "**Body**\n",
    "- Origin located at the center of gravity (COG) of the quadrotor\n",
    "- Convetions:\n",
    "    - For **PX4** and **Ardupilot**, X Forward, Y Right, Z Down (FRD)\n",
    "    - For **Robot Operating System (ROS)**, X Forward, Y Left, Z Up (FLU), and usually named `base_link`."
   ]
  },
  {
   "cell_type": "markdown",
   "id": "cab0c360",
   "metadata": {},
   "source": [
    "## 2D Geometry"
   ]
  },
  {
   "cell_type": "markdown",
   "id": "ac2af6d2",
   "metadata": {},
   "source": [
    "### Geometric Primitives in 2D\n",
    "\n",
    "**2D Point**\n",
    "$$\n",
    "\\vx = \\begin{pmatrix}\n",
    "x \\\\\n",
    "y\n",
    "\\end{pmatrix} \\in \\sR^2\n",
    "$$\n",
    "\n",
    "**Augmented vector**\n",
    "$$\n",
    "\\avx = \\begin{pmatrix}\n",
    "x \\\\\n",
    "y \\\\\n",
    "1\n",
    "\\end{pmatrix} \\in \\sR^3\n",
    "$$\n",
    "\n",
    "**Homogeneous/Projective coordinates**\n",
    "$$\n",
    "\\hvx = \\begin{pmatrix}\n",
    "\\hcx \\\\\n",
    "\\hcy \\\\\n",
    "\\hcw\n",
    "\\end{pmatrix} \\in \\sP^2\n",
    "$$"
   ]
  },
  {
   "cell_type": "markdown",
   "id": "75e625df",
   "metadata": {},
   "source": [
    "### Homogeneous coordinates\n",
    "\n",
    "\n",
    "<center>\n",
    "    <img src=\"./assets/homogeneous-coordinates.svg\">\n",
    "</center>"
   ]
  },
  {
   "cell_type": "markdown",
   "id": "832ed583",
   "metadata": {},
   "source": [
    "### Homogeneous Vectors\n",
    "\n",
    "Convert back to inhomogeneous coordinates by dividing through last element\n",
    "$$\n",
    "\\tilde{\\vx} = \\begin{pmatrix}\n",
    "\\tilde{x} \\\\\n",
    "\\tilde{y} \\\\\n",
    "\\tilde{w}\n",
    "\\end{pmatrix} = \\tilde{w} \\begin{pmatrix}\n",
    "\\tilde{x} / \\tilde{w} \\\\\n",
    "\\tilde{y} / \\tilde{w} \\\\\n",
    "1\n",
    "\\end{pmatrix} = \\tilde{w} \\begin{pmatrix}\n",
    "x \\\\\n",
    "y \\\\\n",
    "1\n",
    "\\end{pmatrix} = \\tilde{w}\\bar{\\vx}\n",
    "$$\n",
    "\n",
    "points with $\\tilde{w} = 0$ are called points at infinity or ideal points\n"
   ]
  },
  {
   "cell_type": "markdown",
   "id": "2abf3a1a",
   "metadata": {},
   "source": [
    "### 2D Lines\n",
    "\n",
    "$$\n",
    "\\hvl = (a, b, c)^\\transpose\n",
    "$$\n",
    "\n",
    "**2D line equation**\n",
    "$$\n",
    "\\avx \\cdot \\hvl = ax + by + c = 0\n",
    "$$\n",
    "\n",
    "**Normalized line equation**\n",
    "$$\n",
    "\\hvl = (\\nsn_x, \\nsn_y, d)^\\transpose = (\\nvn, d)^\\transpose\n",
    "$$\n",
    "\n",
    "where\n",
    "$$\n",
    "\\begin{Vmatrix} \\nvn \\end{Vmatrix} = 1\n",
    "$$\n",
    "\n",
    "and $d$ is the distance of the line to the origin\n",
    "\n",
    "<center>\n",
    "<img src=\"./assets/normalize-line.svg\">\n",
    "</center>\n",
    "\n",
    "**Line joining two points**\n",
    "$$\n",
    "\\hvl = \\hvx_1 \\times \\hvx_2\n",
    "$$\n",
    "\n",
    "**Intersection point of two lines**\n",
    "$$\n",
    "\\hvx = \\hvl_1 \\times \\hvl_2\n",
    "$$"
   ]
  },
  {
   "cell_type": "markdown",
   "id": "5445654a",
   "metadata": {},
   "source": [
    "## 2D Transformations"
   ]
  },
  {
   "cell_type": "markdown",
   "id": "1b9bf721",
   "metadata": {},
   "source": [
    "### Translation\n",
    "\n",
    "$$\n",
    "\\vx^\\prime = \\vx + \\vt\n",
    "$$\n",
    "\n",
    "using augmented vector:\n",
    "\n",
    "$$\n",
    "\\vx^\\prime = \\underbrace{\n",
    "\\begin{pmatrix} \n",
    "\\mI & \\vt\n",
    "\\end{pmatrix}\n",
    "}_{2 \\times 3} \\avx\n",
    "$$\n",
    "\n",
    "in homogeneous coordinates:\n",
    "\n",
    "$$\n",
    "\\hvx^\\prime = \\underbrace{\n",
    "\\begin{pmatrix} \n",
    "\\mI & \\vt \\\\\n",
    "0^\\transpose & 1\n",
    "\\end{pmatrix}\n",
    "}_{3 \\times 3} \\hvx\n",
    "$$\n",
    "\n",
    "where $\\vt \\in \\sR^2$ is the translation vector, $\\mI$ is the identity matrix, and $0$ is the zero vector\n"
   ]
  },
  {
   "cell_type": "code",
   "execution_count": 24,
   "id": "f964aaec",
   "metadata": {
    "tags": []
   },
   "outputs": [
    {
     "data": {
      "text/html": [
       "<div id=\"b5\" class=\"jxgbox\" style=\"width:500px; height:500px;\"></div>\n",
       "<script type=\"text/javascript\">\n",
       "\n",
       "    var board = JXG.JSXGraph.initBoard('b5', {boundingbox:[-5,10,10,-5], axis:true, showNavigation:true, showCopyright:false});\n",
       "    \n",
       "    var a = board.create('slider',[[-4,-1],[4,-1],[-4,6,8]],{name:'x'});\n",
       "    var b = board.create('slider',[[-4,-2],[4,-2],[-4,7,8]],{name:'y'});\n",
       "    var radius = 2;\n",
       "    var p1 = board.create('point', [\n",
       "    function() {return a.Value();},\n",
       "    function() {return b.Value();}]);\n",
       "    \n",
       "    var p2 = board.create('point', [\n",
       "    function() {return p1.X()}, \n",
       "    function() {return p1.Y() + radius}], {visible:false});\n",
       "    var circle1 = board.create('circle', [p1, p2]);\n",
       "    var va = board.create('line',[[0,0],p1],{straightFirst:false, straightLast:false, lastArrow:true});\n",
       "    \n",
       "    var x = board.create('line',[[\n",
       "    function(){return p1.X();},0],p1],{straightFirst:false, straightLast:false, strokeWidth:2, dash:2});\n",
       "    var y = board.create('line',[[0,\n",
       "    function(){return p1.Y();}],p1],{straightFirst:false, straightLast:false, strokeWidth:2, dash:2});\n",
       "</script>"
      ],
      "text/plain": [
       "<IPython.core.display.HTML object>"
      ]
     },
     "metadata": {},
     "output_type": "display_data"
    }
   ],
   "source": [
    "display(HTML(open(\"./js/translation.js\", \"r\").read()))"
   ]
  },
  {
   "cell_type": "markdown",
   "id": "6f234838",
   "metadata": {
    "tags": []
   },
   "source": [
    "### Rotation\n",
    "\n",
    "Rigid body motion or Euclidean transformation (rotation + translation)\n",
    "\n",
    "$$\n",
    "\\vx^\\prime = \\mR\\vx + \\vt\n",
    "$$\n",
    "\n",
    "in homogeneous coordinates:\n",
    "\n",
    "$$\n",
    "\\hvx^\\prime = \n",
    "\\begin{pmatrix} \n",
    "\\mR & \\vt \\\\\n",
    "0^\\transpose & 1\n",
    "\\end{pmatrix} \\hvx\n",
    "$$\n",
    "\n",
    "Where\n",
    "\n",
    "$$\n",
    "\\mR = \\begin{pmatrix}\n",
    "\\cos{\\theta} && -\\sin{\\theta} \\\\\n",
    "\\sin{\\theta} && \\cos{\\theta} \\\\\n",
    "\\end{pmatrix}\n",
    "$$\n",
    "\n",
    "is orthogonal ($RR^\\transpose = \\mI$) with $det(\\mR) = 1$\n",
    "\n",
    "> **Distances and angles are preserved**"
   ]
  },
  {
   "cell_type": "code",
   "execution_count": 26,
   "id": "2d9b0c5f",
   "metadata": {
    "tags": []
   },
   "outputs": [
    {
     "data": {
      "text/html": [
       "<div id=\"b6\" class=\"jxgbox\" style=\"width:500px; height:500px;\"></div>\n",
       "<script type=\"text/javascript\">\n",
       "\n",
       "    var board = JXG.JSXGraph.initBoard('b6', {boundingbox:[-5,10,10,-5], axis:true, showNavigation:true, showCopyright:false});\n",
       "    \n",
       "    var length = 2;\n",
       "    \n",
       "    var a = board.create('slider',[[-4,-1],[4,-1],[-4,0,8]],{name:'x'});\n",
       "    var b = board.create('slider',[[-4,-2],[4,-2],[-4,0,8]],{name:'y'});\n",
       "    var theta = board.create('slider',[[-4,-3],[4,-3],[-2*Math.PI,0,2*Math.PI]],{name:'theta'});\n",
       "    \n",
       "    var sq = [],\n",
       "        right = board.create('transform', [length, 0], {type: 'translate'}),\n",
       "        up = board.create('transform', [0, length], {type: 'translate'}),\n",
       "        pol, rot, p0;\n",
       "\n",
       "    sq[0] = board.create('point', [\n",
       "    function() {return a.Value();}, \n",
       "    function() {return b.Value();}]),\n",
       "\n",
       "    // Construct the other free points by transformations\n",
       "    sq[1] = board.create('point', [sq[0], right], {visible: false}),\n",
       "    sq[2] = board.create('point', [sq[0], [right, up]], {visible: false}),\n",
       "    sq[3] = board.create('point', [sq[0], up], {visible: false}),\n",
       "\n",
       "    // Polygon through these four points\n",
       "    pol = board.create('polygon', sq);\n",
       "    \n",
       "    var _p = board.create('point', [sq[0], right],{visible: false});\n",
       "\n",
       "    // Rotate the square around point sq[0]\n",
       "    rot = board.create('transform', [\n",
       "        function() {return theta.Value();}, sq[0]], {type: 'rotate'});\n",
       "\n",
       "    // Apply the rotation to all but the first point of the square\n",
       "    rot.bindTo(sq.slice(1));\n",
       "    \n",
       "    var va = board.create('line',[[0,0],sq[0]],{straightFirst:false, straightLast:false, lastArrow:true});\n",
       "    var angle = board.create('angle', [_p, sq[0], sq[1]], {name: 'theta', radius: length });\n",
       "\n",
       "</script>"
      ],
      "text/plain": [
       "<IPython.core.display.HTML object>"
      ]
     },
     "metadata": {},
     "output_type": "display_data"
    }
   ],
   "source": [
    "display(HTML(open(\"./js/rotation.js\", \"r\").read()))"
   ]
  },
  {
   "cell_type": "markdown",
   "id": "1f4dfd89",
   "metadata": {},
   "source": [
    "### Scale\n",
    "\n",
    "Similarity transform\n",
    "\n",
    "$$\n",
    "\\vx^\\prime = s\\mR\\vx + \\vt\n",
    "$$\n",
    "\n",
    "in homogeneous coordinates:\n",
    "\n",
    "$$\n",
    "\\hvx^\\prime = \n",
    "\\begin{pmatrix} \n",
    "s\\mR & \\vt \\\\\n",
    "0^\\transpose & 1\n",
    "\\end{pmatrix} \\hvx\n",
    "$$\n",
    "\n",
    "> **Preserves angles between lines**"
   ]
  },
  {
   "cell_type": "code",
   "execution_count": 28,
   "id": "3b2accda",
   "metadata": {
    "tags": []
   },
   "outputs": [
    {
     "data": {
      "text/html": [
       "<div id=\"b7\" class=\"jxgbox\" style=\"width:500px; height:500px;\"></div>\n",
       "<script type=\"text/javascript\">\n",
       "\n",
       "    var board = JXG.JSXGraph.initBoard('b7', {boundingbox:[-5,10,10,-5], axis:true, showNavigation:true, showCopyright:false});\n",
       "    \n",
       "    var length = 2;\n",
       "    \n",
       "    var a = board.create('slider',[[-4,-1],[4,-1],[-4,0,8]],{name:'x'});\n",
       "    var b = board.create('slider',[[-4,-2],[4,-2],[-4,0,8]],{name:'y'});\n",
       "    var theta = board.create('slider',[[-4,-3],[4,-3],[-2*Math.PI,0,2*Math.PI]],{name:'theta'});\n",
       "    var scale = board.create('slider',[[-4,-4],[4,-4],[0.1,1,3]],{name:'scale'});\n",
       "    \n",
       "    var sq = [],\n",
       "        right = board.create('transform', [\n",
       "        function() {return length * scale.Value() ;}, 0], {type: 'translate'}),\n",
       "        up = board.create('transform', [0, \n",
       "        function() {return length * scale.Value() ;}], {type: 'translate'}),\n",
       "        pol, rot, p0;\n",
       "\n",
       "    sq[0] = board.create('point', [\n",
       "    function() {return a.Value();}, \n",
       "    function() {return b.Value();}]),\n",
       "\n",
       "    // Construct the other free points by transformations\n",
       "    sq[1] = board.create('point', [sq[0], right], {visible: false}),\n",
       "    sq[2] = board.create('point', [sq[0], [right, up]], {visible: false}),\n",
       "    sq[3] = board.create('point', [sq[0], up], {visible: false}),\n",
       "\n",
       "    // Polygon through these four points\n",
       "    pol = board.create('polygon', sq);\n",
       "    \n",
       "    var _p = board.create('point', [sq[0], right],{visible: false});\n",
       "\n",
       "    // Rotate the square around point sq[0]\n",
       "    rot = board.create('transform', [\n",
       "        function() {return theta.Value();}, sq[0]], {type: 'rotate'});\n",
       "\n",
       "    // Apply the rotation to all but the first point of the square\n",
       "    rot.bindTo(sq.slice(1));\n",
       "    \n",
       "    var va = board.create('line',[[0,0],sq[0]],{straightFirst:false, straightLast:false, lastArrow:true});\n",
       "    var angle = board.create('angle', [_p, sq[0], sq[1]], {name: 'theta', radius: length });\n",
       "\n",
       "</script>"
      ],
      "text/plain": [
       "<IPython.core.display.HTML object>"
      ]
     },
     "metadata": {},
     "output_type": "display_data"
    }
   ],
   "source": [
    "display(HTML(open(\"./js/scale.js\", \"r\").read()))"
   ]
  },
  {
   "cell_type": "markdown",
   "id": "8c19f83c",
   "metadata": {},
   "source": [
    "### Affine Transformation\n",
    "\n",
    "$$\n",
    "\\hvx^\\prime = \\mA \\hvx = \\begin{pmatrix}\n",
    "a_{11} && a_{12} && a_{13} \\\\\n",
    "a_{21} && a_{22} && a_{23} \\\\\n",
    "0 && 0 && 1 \\\\\n",
    "\\end{pmatrix} \\hvx\n",
    "$$\n",
    "\n",
    "> **Parallel lines remain parallel**"
   ]
  },
  {
   "cell_type": "code",
   "execution_count": 30,
   "id": "2d855dd4",
   "metadata": {
    "tags": []
   },
   "outputs": [
    {
     "data": {
      "text/html": [
       "<div id=\"b8\" class=\"jxgbox\" style=\"width:500px; height:500px;\"></div>\n",
       "<script type=\"text/javascript\">\n",
       "\n",
       "    var board = JXG.JSXGraph.initBoard('b8', {boundingbox:[-6,12,12,-6], axis:true, showNavigation:true, showCopyright:false});\n",
       "    \n",
       "    var length = 2;\n",
       "    \n",
       "    var t1 = board.create('slider',[[6,-1],[9,-1],[-4,0,8]],{name:'a_{13}'});\n",
       "    var t2 = board.create('slider',[[6,-2],[9,-2],[-4,0,8]],{name:'a_{23}'});\n",
       "    \n",
       "    var a = board.create('slider',[[-5,-1],[-2,-1],[-3,1,2]],{name:'a_{11}'});\n",
       "    var b = board.create('slider',[[0.5,-1],[3.5,-1],[-3,0,2]],{name:'a_{12}'});\n",
       "    \n",
       "    var c = board.create('slider',[[-5,-2],[-2,-2],[-3,0,2]],{name:'a_{21}'});\n",
       "    var d = board.create('slider',[[0.5,-2],[3.5,-2],[-3,1,2]],{name:'a_{22}'});\n",
       "    \n",
       "    var sq = [],\n",
       "        right = board.create('transform', [\n",
       "        function() {return length;}, 0], {type: 'translate'}),\n",
       "        up = board.create('transform', [0, \n",
       "        function() {return length;}], {type: 'translate'}),\n",
       "        pol, p0;\n",
       "        \n",
       "    var afTr = board.create('transform', [ 1, 0, 0,\n",
       "    function(){return t1.Value();}, function() {return a.Value();}, function() {return b.Value();},\n",
       "    function(){return t2.Value();}, function() {return c.Value();}, function() {return d.Value();}], {type: 'generic'});\n",
       "\n",
       "    sq[0] = board.create('point', [0,0], {visible: false}),\n",
       "    sq[1] = board.create('point', [sq[0], right], {visible: false}),\n",
       "    sq[2] = board.create('point', [sq[0], [right, up]], {visible: false}),\n",
       "    sq[3] = board.create('point', [sq[0], up], {visible: false}),\n",
       "\n",
       "    pol = board.create('polygon', sq, {visible: false});\n",
       "    pol2 = board.create('polygon', [pol, afTr]);\n",
       "</script>"
      ],
      "text/plain": [
       "<IPython.core.display.HTML object>"
      ]
     },
     "metadata": {},
     "output_type": "display_data"
    }
   ],
   "source": [
    "display(HTML(open(\"./js/affine.js\", \"r\").read()))"
   ]
  },
  {
   "cell_type": "markdown",
   "id": "15c45104",
   "metadata": {},
   "source": [
    "### Homography or projective transformation\n",
    "\n",
    "$$\n",
    "\\hvx^\\prime = \\hat{\\mH} \\hvx = \\begin{pmatrix}\n",
    "a_{11} && a_{12} && a_{13} \\\\\n",
    "a_{21} && a_{22} && a_{23} \\\\\n",
    "a_{31} && a_{32} && a_{33} \\\\\n",
    "\\end{pmatrix}  \\hvx\n",
    "$$"
   ]
  },
  {
   "cell_type": "code",
   "execution_count": 31,
   "id": "6fc98ef7",
   "metadata": {
    "tags": []
   },
   "outputs": [
    {
     "data": {
      "text/html": [
       "<div id=\"b9\" class=\"jxgbox\" style=\"width:500px; height:500px;\"></div>\n",
       "<script type=\"text/javascript\">\n",
       "\n",
       "    var board = JXG.JSXGraph.initBoard('b9', {boundingbox:[-6,12,12,-6], axis:true, showNavigation:true, showCopyright:false});\n",
       "    \n",
       "    var length = 2;\n",
       "    \n",
       "    var t1 = board.create('slider',[[6,-1],[9,-1],[-4,0,8]],{name:'a_{13}'});\n",
       "    var t2 = board.create('slider',[[6,-2],[9,-2],[-4,0,8]],{name:'a_{23}'});\n",
       "    var t3 = board.create('slider',[[6,-3],[9,-3],[-4,1,8]],{name:'a_{33}'});\n",
       "    \n",
       "    var a = board.create('slider',[[-5,-1],[-2,-1],[-3,1,2]],{name:'a_{11}'});\n",
       "    var b = board.create('slider',[[0.5,-1],[3.5,-1],[-3,0,2]],{name:'a_{12}'});\n",
       "    \n",
       "    var c = board.create('slider',[[-5,-2],[-2,-2],[-3,0,2]],{name:'a_{21}'});\n",
       "    var d = board.create('slider',[[0.5,-2],[3.5,-2],[-3,1,2]],{name:'a_{22}'});\n",
       "    \n",
       "    var e = board.create('slider',[[-5,-3],[-2,-3],[-3,0,2]],{name:'a_{31}'});\n",
       "    var f = board.create('slider',[[0.5,-3],[3.5,-3],[-3,0,2]],{name:'a_{32}'});\n",
       "    \n",
       "    var sq = [],\n",
       "        right = board.create('transform', [\n",
       "        function() {return length;}, 0], {type: 'translate'}),\n",
       "        up = board.create('transform', [0, \n",
       "        function() {return length;}], {type: 'translate'}),\n",
       "        pol, p0;\n",
       "        \n",
       "    var afTr = board.create('transform', [\n",
       "    function(){return t3.Value();}, function() {return e.Value();}, function() {return f.Value();},\n",
       "    function(){return t1.Value();}, function() {return a.Value();}, function() {return b.Value();},\n",
       "    function(){return t2.Value();}, function() {return c.Value();}, function() {return d.Value();}], {type: 'generic'});\n",
       "\n",
       "    sq[0] = board.create('point', [0,0], {visible: false}),\n",
       "    sq[1] = board.create('point', [sq[0], right], {visible: false}),\n",
       "    sq[2] = board.create('point', [sq[0], [right, up]], {visible: false}),\n",
       "    sq[3] = board.create('point', [sq[0], up], {visible: false}),\n",
       "\n",
       "    pol = board.create('polygon', sq, {visible: false});\n",
       "    pol2 = board.create('polygon', [pol, afTr]);\n",
       "</script>"
      ],
      "text/plain": [
       "<IPython.core.display.HTML object>"
      ]
     },
     "metadata": {},
     "output_type": "display_data"
    }
   ],
   "source": [
    "display(HTML(open(\"./js/homography.js\", \"r\").read()))"
   ]
  },
  {
   "cell_type": "markdown",
   "id": "ad3381c5",
   "metadata": {},
   "source": [
    "## 3D Geometry"
   ]
  },
  {
   "cell_type": "markdown",
   "id": "81b4f8fa",
   "metadata": {
    "jp-MarkdownHeadingCollapsed": true,
    "tags": []
   },
   "source": [
    "### Geometric Primitives in 3D\n",
    "\n",
    "**3D Point**\n",
    "$$\n",
    "\\vx = \\begin{pmatrix}\n",
    "x \\\\\n",
    "y \\\\\n",
    "z\n",
    "\\end{pmatrix} \\in \\sR^3\n",
    "$$\n",
    "\n",
    "**Aumented vector**\n",
    "$$\n",
    "\\avx = \\begin{pmatrix}\n",
    "x \\\\\n",
    "y \\\\\n",
    "z \\\\\n",
    "1\n",
    "\\end{pmatrix} \\in \\sR^4\n",
    "$$\n",
    "\n",
    "**Homogeneous/Projective coordinates**\n",
    "$$\n",
    "\\hvx = \\begin{pmatrix}\n",
    "\\hcx \\\\\n",
    "\\hcy \\\\\n",
    "\\hcz \\\\\n",
    "\\hcw\n",
    "\\end{pmatrix} \\in \\sP^3\n",
    "$$"
   ]
  },
  {
   "cell_type": "markdown",
   "id": "1afd2687",
   "metadata": {},
   "source": [
    "### 3D Line\n",
    "\n",
    "- 3D line $r = (1-\\lambda)p + \\lambda q$\n",
    "- Infinite line: $\\lambda \\in \\sR$\n",
    "- Line sigment joining $p, q$: $0 \\leq \\lambda \\leq 1$\n",
    "\n",
    "<center>\n",
    "<img src=\"./assets/line-3d.svg\">\n",
    "</center>"
   ]
  },
  {
   "cell_type": "markdown",
   "id": "85eda6d9",
   "metadata": {},
   "source": [
    "### 3D Plane\n",
    "\n",
    "**3D Plane**\n",
    "$$\n",
    "\\hvm = (a, b, c, d)^\\transpose\n",
    "$$\n",
    "\n",
    "**3D Plane equation**\n",
    "$$\n",
    "\\avx \\cdot \\hvm = ax + by + cz + d = 0\n",
    "$$\n",
    "\n",
    "**Normalized plane** with unit vector $\\| \\nvn \\| = 1$ and distance $d$\n",
    "$$\n",
    "m = (\\nsn_{x}, \\nsn_{y}, \\nsn_{z}, d)^\\transpose = (\\nvn, d)\n",
    "$$\n",
    "\n",
    "<center><img src=\"./assets/3d-plane.svg\"></center> "
   ]
  },
  {
   "cell_type": "markdown",
   "id": "9b380ef6",
   "metadata": {
    "tags": []
   },
   "source": [
    "## 3D Transformations"
   ]
  },
  {
   "cell_type": "markdown",
   "id": "f8727fe0",
   "metadata": {},
   "source": [
    "### Translation\n",
    "\n",
    "$$\n",
    "\\vx^\\prime = \\vx + \\vt\n",
    "$$\n",
    "\n",
    "in homogeneous coordinates, using **Euclidean transform** (translation + rotation):\n",
    "\n",
    "$$\n",
    "\\hvx^\\prime = \\underbrace{\n",
    "\\begin{pmatrix} \n",
    "\\mI & \\vt \\\\\n",
    "0^\\transpose & 1\n",
    "\\end{pmatrix}\n",
    "}_{4 \\times 4} \\hvx\n",
    "$$\n",
    "\n",
    "where $\\vt \\in \\sR^2$ is the translation vector, $\\mI$ is the identity matrix, and $0$ is the zero vector\n"
   ]
  },
  {
   "cell_type": "markdown",
   "id": "3881ea60",
   "metadata": {},
   "source": [
    "### 3D Euclidean Transformations\n",
    "\n",
    "- Translation $\\vt \\in \\sR^3$ has 3 degrees of freedom (DOF)\n",
    "- Rotation $\\mR \\in \\sR^3$ has 3 degrees of freedom (DOF)\n",
    "\n",
    "$$\n",
    "\\mX = \\begin{pmatrix}\n",
    "\\mR & \\vt \\\\\n",
    "0 & 1\n",
    "\\end{pmatrix} = \\begin{pmatrix}\n",
    "r_{11} & r_{12} & r_{13} & t_1 \\\\\n",
    "r_{21} & r_{22} & r_{23} & t_2 \\\\\n",
    "r_{31} & r_{32} & r_{33} & t_3 \\\\\n",
    "0 & 0 & 0 & 1 \\\\\n",
    "\\end{pmatrix}\n",
    "$$"
   ]
  },
  {
   "cell_type": "markdown",
   "id": "ba22cbb1",
   "metadata": {
    "jp-MarkdownHeadingCollapsed": true,
    "tags": []
   },
   "source": [
    "### 3D Rotation\n",
    "\n",
    "A rotation matrix is a $3 \\times 3$ ortogonal matrix\n",
    "\n",
    "$$\n",
    "\\mR = \\begin{pmatrix}\n",
    "r_{11} & r_{12} & r_{13} \\\\\n",
    "r_{21} & r_{22} & r_{23} \\\\\n",
    "r_{31} & r_{32} & r_{33}\n",
    "\\end{pmatrix}\n",
    "$$\n",
    "\n",
    "> Column vector correspond to coordinate axes\n",
    "\n",
    "**Operations**:\n",
    "- Invert\n",
    "- Concatenate\n",
    "- Estimate/optimize\n",
    "\n",
    "**Advantage**:\n",
    "- Can be easily concatenated and inverted\n",
    "\n",
    "**Disadvantage**:\n",
    "- Over-parametrized (3 parameters instead of 3)"
   ]
  },
  {
   "cell_type": "markdown",
   "id": "78ca24ec",
   "metadata": {
    "tags": []
   },
   "source": [
    "## Euler Angles\n",
    "\n",
    "**Roll**, **pitch** and **yaw** convention is very common in aerial navigation (DIN 9300)\n",
    "\n",
    "<center><img src=\"./assets/euler-angles.svg\"></center> \n",
    "\n",
    "**Notation**\n",
    "- **Roll** $\\roll$\n",
    "- **Pitch** $\\pitch$\n",
    "- **Yaw** $\\yaw$"
   ]
  },
  {
   "cell_type": "code",
   "execution_count": 4,
   "id": "856060b9",
   "metadata": {},
   "outputs": [
    {
     "data": {
      "text/html": [
       "\n",
       "<iframe src=\"http://localhost:5500/\" width=\"850\" height=\"550\"></iframe>\n"
      ],
      "text/plain": [
       "<IPython.core.display.HTML object>"
      ]
     },
     "metadata": {},
     "output_type": "display_data"
    }
   ],
   "source": [
    "simulator = \"\"\"\n",
    "<iframe src=\"http://localhost:5500/\" width=\"850\" height=\"550\"></iframe>\n",
    "\"\"\"\n",
    "\n",
    "display(HTML(simulator))"
   ]
  },
  {
   "cell_type": "markdown",
   "id": "0e94a7b4",
   "metadata": {},
   "source": [
    "- `animateEuler(roll, pitch, yaw)`\n",
    "- `animateQuaternion(w, x, y, z)`"
   ]
  },
  {
   "cell_type": "markdown",
   "id": "5f336499",
   "metadata": {},
   "source": [
    "**Conversion** to $3 \\times 3$ rotation matrix:\n",
    "$$\n",
    "\\mR = \\mR_z(\\yaw) \\mR_y(\\pitch) \\mR_x(\\roll)\n",
    "$$\n",
    "\n",
    "$$\n",
    "\\mR = \\underbrace{\\begin{pmatrix}\n",
    "1 & 0 & 0 \\\\\n",
    "0 & cos{\\roll} & sin{\\roll}  \\\\\n",
    "0 & -sin{\\roll}  & cos{\\roll}\n",
    "\\end{pmatrix}}_{\\mR_x(\\roll)}\n",
    "\\underbrace{\\begin{pmatrix}\n",
    "cos{\\pitch} & 0 & -sin{\\pitch} \\\\\n",
    "0 & 1 & 0  \\\\\n",
    "sin{\\pitch} & 0  & cos{\\pitch}\n",
    "\\end{pmatrix}}_{\\mR_y(\\pitch)}\n",
    "\\underbrace{\\begin{pmatrix}\n",
    "cos{\\yaw} & sin{\\yaw} & 0 \\\\\n",
    "-sin{\\yaw} & cos{\\yaw} & 0  \\\\\n",
    "0 & 0  & 1\n",
    "\\end{pmatrix}}_{\\mR_z(\\yaw)}\n",
    "$$\n",
    "\n",
    "[More Details](https://en.wikipedia.org/wiki/Rotation_matrix#General_rotations)\n",
    "\n",
    "**Conversion** from $3 \\times 3$ rotation matrix into angles:\n",
    "\n",
    "$$\n",
    "\\roll = Atan2 \\left( -r_{31}, \\sqrt{r_{11}^2 + r_{21}^2} \\right)\n",
    "$$\n",
    "\n",
    "$$\n",
    "\\pitch = Atan2 \\left( \\frac{r_{32}}{cos(\\roll)}, \\frac{r_{33}}{cos(\\roll)} \\right)\n",
    "$$\n",
    "\n",
    "$$\n",
    "\\yaw = Atan2 \\left( \\frac{r_{21}}{cos(\\roll)}, \\frac{r_{11}}{cos(\\roll)} \\right)\n",
    "$$\n",
    "\n",
    "\n",
    "**Advantages**\n",
    "- Minimal representation using 3 parameters\n",
    "- Easy interpretation\n",
    "\n",
    "**Disadvantages**\n",
    "- Many \"alternative\" Euler representations (XYZ, ZXY, ZYX)\n",
    "- Difficult to concatenate\n",
    "- **Singularities!!** (gimbal lock): When the axes align, one DOF is lost."
   ]
  },
  {
   "cell_type": "markdown",
   "id": "cc9581ef",
   "metadata": {},
   "source": [
    "## Quaternions\n",
    "\n",
    "Represented:\n",
    "$$\n",
    "\\vq = (q_{w}, q_{x}, q_{y}, q_{z})^\\transpose \\in \\sR^4\n",
    "$$\n",
    "\n",
    "Compose by a real and vector part:\n",
    "$$\n",
    "\\vq = (r, \\vv), r \\in \\sR, \\vv \\in \\sR^3\n",
    "$$\n",
    "\n",
    "**Unit** quaternions is describes $\\| q \\| = 1$\n",
    "\n",
    "- Opposite sign quaternions represent the same rotation\n",
    "- Otherwise unique\n",
    "\n",
    "**Advantages**\n",
    "- Multiplication\n",
    "- Inversion\n",
    "- Rotations are very efficient\n",
    "\n",
    "**Concatenation**\n",
    "$$\n",
    "(r_{1}, \\vv_{1})(r_{2}, \\vv_{2}) = (r_{1}r_{2} - \\vv_{1} \\cdot \\vv_{2}, r_{1}\\vv_{2} + r_{2}\\vv_{1} + \\vv_{1} \\times \\vv_{2})\n",
    "$$\n",
    "\n",
    "**Inverse**\n",
    "$$\n",
    "(r, \\vv)^{-1} = (r, \\vv)^{\\star} \\equiv (-r, \\vv) \\equiv (r, -\\vv)\n",
    "$$"
   ]
  }
 ],
 "metadata": {
  "kernelspec": {
   "display_name": "Python 3 (ipykernel)",
   "language": "python",
   "name": "python3"
  },
  "language_info": {
   "codemirror_mode": {
    "name": "ipython",
    "version": 3
   },
   "file_extension": ".py",
   "mimetype": "text/x-python",
   "name": "python",
   "nbconvert_exporter": "python",
   "pygments_lexer": "ipython3",
   "version": "3.10.2"
  },
  "toc-autonumbering": true,
  "toc-showcode": false,
  "toc-showmarkdowntxt": false
 },
 "nbformat": 4,
 "nbformat_minor": 5
}
