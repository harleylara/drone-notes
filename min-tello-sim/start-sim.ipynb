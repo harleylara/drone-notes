{
 "cells": [
  {
   "cell_type": "code",
   "execution_count": null,
   "id": "c6fb88e7-947e-4c5a-a745-aa9e08f5e981",
   "metadata": {},
   "outputs": [
    {
     "name": "stdout",
     "output_type": "stream",
     "text": [
      "Server started at localhost:4400\n"
     ]
    },
    {
     "name": "stderr",
     "output_type": "stream",
     "text": [
      "127.0.0.1 - - [06/Aug/2022 19:20:24] \"GET / HTTP/1.1\" 304 -\n",
      "127.0.0.1 - - [06/Aug/2022 19:20:26] \"GET /js/domReady.js HTTP/1.1\" 200 -\n",
      "127.0.0.1 - - [06/Aug/2022 19:20:26] \"GET /js/jquery.min.js HTTP/1.1\" 200 -\n",
      "127.0.0.1 - - [06/Aug/2022 19:20:26] \"GET /js/init/rot_viewer.js HTTP/1.1\" 200 -\n",
      "127.0.0.1 - - [06/Aug/2022 19:20:26] \"GET /js/domReady.js HTTP/1.1\" 200 -\n",
      "127.0.0.1 - - [06/Aug/2022 19:20:26] \"GET /js/jquery.min.js HTTP/1.1\" 200 -\n",
      "127.0.0.1 - - [06/Aug/2022 19:20:26] \"GET /js/init/rot_viewer.js HTTP/1.1\" 200 -\n",
      "127.0.0.1 - - [06/Aug/2022 19:22:12] \"GET /js/three.min.js HTTP/1.1\" 200 -\n",
      "127.0.0.1 - - [06/Aug/2022 19:22:13] \"GET /js/three.min.js HTTP/1.1\" 200 -\n"
     ]
    }
   ],
   "source": [
    "import http.server\n",
    "import socketserver\n",
    "\n",
    "PORT = 4400\n",
    "\n",
    "handler = http.server.SimpleHTTPRequestHandler\n",
    "\n",
    "with socketserver.TCPServer((\"\", PORT), handler) as httpd:\n",
    "    print(\"Server started at localhost:\" + str(PORT))\n",
    "    httpd.serve_forever()"
   ]
  }
 ],
 "metadata": {
  "kernelspec": {
   "display_name": "Python 3 (ipykernel)",
   "language": "python",
   "name": "python3"
  },
  "language_info": {
   "codemirror_mode": {
    "name": "ipython",
    "version": 3
   },
   "file_extension": ".py",
   "mimetype": "text/x-python",
   "name": "python",
   "nbconvert_exporter": "python",
   "pygments_lexer": "ipython3",
   "version": "3.10.2"
  }
 },
 "nbformat": 4,
 "nbformat_minor": 5
}
