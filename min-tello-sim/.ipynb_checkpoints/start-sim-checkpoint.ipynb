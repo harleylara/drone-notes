{
 "cells": [
  {
   "cell_type": "code",
   "execution_count": null,
   "id": "c6fb88e7-947e-4c5a-a745-aa9e08f5e981",
   "metadata": {},
   "outputs": [],
   "source": [
    "import http.server\n",
    "import socketserver\n",
    "\n",
    "PORT = 4400\n",
    "\n",
    "handler = http.server.SimpleHTTPRequestHandler\n",
    "\n",
    "with socketserver.TCPServer((\"\", PORT), handler) as httpd:\n",
    "    print(\"Server started at localhost:\" + str(PORT))\n",
    "    httpd.serve_forever()"
   ]
  }
 ],
 "metadata": {
  "kernelspec": {
   "display_name": "Python 3 (ipykernel)",
   "language": "python",
   "name": "python3"
  },
  "language_info": {
   "name": ""
  }
 },
 "nbformat": 4,
 "nbformat_minor": 5
}
